{
 "cells": [
  {
   "cell_type": "code",
   "execution_count": 8,
   "metadata": {},
   "outputs": [],
   "source": [
    "import pandas as pd\n",
    "import seaborn as sns\n",
    "from sklearn.model_selection import train_test_split\n",
    "from sklearn.preprocessing import RobustScaler\n",
    "from sklearn.preprocessing import StandardScaler\n",
    "from sklearn.ensemble import RandomForestClassifier\n",
    "from sklearn.metrics import classification_report\n",
    "import matplotlib.pyplot as plt\n",
    "from xgboost import XGBClassifier\n"
   ]
  },
  {
   "cell_type": "code",
   "execution_count": 9,
   "metadata": {},
   "outputs": [],
   "source": [
    "data = pd.read_csv(r\"D:\\Lomba-Lomba\\TSDN 2024\\COPD\\dataset.csv\")"
   ]
  },
  {
   "attachments": {},
   "cell_type": "markdown",
   "metadata": {},
   "source": []
  },
  {
   "cell_type": "code",
   "execution_count": null,
   "metadata": {},
   "outputs": [],
   "source": [
    "data.tail(10)"
   ]
  },
  {
   "attachments": {},
   "cell_type": "markdown",
   "metadata": {},
   "source": [
    "## **EDA**"
   ]
  },
  {
   "cell_type": "code",
   "execution_count": null,
   "metadata": {},
   "outputs": [],
   "source": [
    "data.head()"
   ]
  },
  {
   "cell_type": "code",
   "execution_count": null,
   "metadata": {},
   "outputs": [],
   "source": [
    "data.describe()"
   ]
  },
  {
   "cell_type": "code",
   "execution_count": null,
   "metadata": {},
   "outputs": [],
   "source": [
    "data.isnull().sum()"
   ]
  },
  {
   "cell_type": "code",
   "execution_count": null,
   "metadata": {},
   "outputs": [],
   "source": [
    "data.duplicated().sum()"
   ]
  },
  {
   "cell_type": "code",
   "execution_count": null,
   "metadata": {},
   "outputs": [],
   "source": [
    "data.columns"
   ]
  },
  {
   "cell_type": "code",
   "execution_count": null,
   "metadata": {},
   "outputs": [],
   "source": [
    "import matplotlib.pyplot as plt\n",
    "data.hist(figsize=[20,20])\n",
    "plt.show"
   ]
  },
  {
   "cell_type": "code",
   "execution_count": null,
   "metadata": {},
   "outputs": [],
   "source": [
    "data.columns"
   ]
  },
  {
   "cell_type": "code",
   "execution_count": null,
   "metadata": {},
   "outputs": [],
   "source": [
    "import seaborn as sns\n",
    "sns.boxplot(data['AGE'])"
   ]
  },
  {
   "cell_type": "code",
   "execution_count": null,
   "metadata": {},
   "outputs": [],
   "source": [
    "data_corr = data[['AGE', 'PackHistory', 'MWT1',\n",
    "       'MWT2', 'MWT1Best', 'FEV1', 'FEV1PRED', 'FVC', 'FVCPRED', 'CAT', 'HAD',\n",
    "       'SGRQ', 'AGEquartiles', 'copd', 'gender', 'smoking', 'Diabetes',\n",
    "       'muscular', 'hypertension', 'AtrialFib', 'IHD']]\n",
    "matrix = data_corr.corr()\n",
    "# Menentukan ukuran figur\n",
    "plt.figure(figsize=(15, 10))  # Anda bisa mengubah angka sesuai kebutuhan\n",
    "# Plotting correlation matrix\n",
    "sns.heatmap(matrix, cmap=\"Greens\", annot=True)\n",
    "plt.show()"
   ]
  },
  {
   "attachments": {},
   "cell_type": "markdown",
   "metadata": {},
   "source": [
    "## **Menggunakan 6 Variabel**"
   ]
  },
  {
   "cell_type": "code",
   "execution_count": 10,
   "metadata": {},
   "outputs": [],
   "source": [
    "data = data[[\"FEV1PRED\",\"AGE\", \"MWT1Best\", \"SGRQ\", \"smoking\", \"copd\"]]"
   ]
  },
  {
   "cell_type": "code",
   "execution_count": 11,
   "metadata": {},
   "outputs": [
    {
     "data": {
      "text/html": [
       "<div>\n",
       "<style scoped>\n",
       "    .dataframe tbody tr th:only-of-type {\n",
       "        vertical-align: middle;\n",
       "    }\n",
       "\n",
       "    .dataframe tbody tr th {\n",
       "        vertical-align: top;\n",
       "    }\n",
       "\n",
       "    .dataframe thead th {\n",
       "        text-align: right;\n",
       "    }\n",
       "</style>\n",
       "<table border=\"1\" class=\"dataframe\">\n",
       "  <thead>\n",
       "    <tr style=\"text-align: right;\">\n",
       "      <th></th>\n",
       "      <th>FEV1PRED</th>\n",
       "      <th>AGE</th>\n",
       "      <th>MWT1Best</th>\n",
       "      <th>SGRQ</th>\n",
       "      <th>smoking</th>\n",
       "      <th>copd</th>\n",
       "    </tr>\n",
       "  </thead>\n",
       "  <tbody>\n",
       "    <tr>\n",
       "      <th>count</th>\n",
       "      <td>101.000000</td>\n",
       "      <td>101.00000</td>\n",
       "      <td>100.000000</td>\n",
       "      <td>101.000000</td>\n",
       "      <td>101.000000</td>\n",
       "      <td>101.00000</td>\n",
       "    </tr>\n",
       "    <tr>\n",
       "      <th>mean</th>\n",
       "      <td>58.531485</td>\n",
       "      <td>70.09901</td>\n",
       "      <td>399.110000</td>\n",
       "      <td>40.185842</td>\n",
       "      <td>1.841584</td>\n",
       "      <td>2.19802</td>\n",
       "    </tr>\n",
       "    <tr>\n",
       "      <th>std</th>\n",
       "      <td>22.294821</td>\n",
       "      <td>7.89874</td>\n",
       "      <td>106.550116</td>\n",
       "      <td>18.239268</td>\n",
       "      <td>0.366952</td>\n",
       "      <td>0.88340</td>\n",
       "    </tr>\n",
       "    <tr>\n",
       "      <th>min</th>\n",
       "      <td>3.290000</td>\n",
       "      <td>44.00000</td>\n",
       "      <td>120.000000</td>\n",
       "      <td>2.000000</td>\n",
       "      <td>1.000000</td>\n",
       "      <td>1.00000</td>\n",
       "    </tr>\n",
       "    <tr>\n",
       "      <th>25%</th>\n",
       "      <td>42.000000</td>\n",
       "      <td>65.00000</td>\n",
       "      <td>303.750000</td>\n",
       "      <td>28.410000</td>\n",
       "      <td>2.000000</td>\n",
       "      <td>2.00000</td>\n",
       "    </tr>\n",
       "    <tr>\n",
       "      <th>50%</th>\n",
       "      <td>60.000000</td>\n",
       "      <td>71.00000</td>\n",
       "      <td>420.000000</td>\n",
       "      <td>38.210000</td>\n",
       "      <td>2.000000</td>\n",
       "      <td>2.00000</td>\n",
       "    </tr>\n",
       "    <tr>\n",
       "      <th>75%</th>\n",
       "      <td>75.000000</td>\n",
       "      <td>75.00000</td>\n",
       "      <td>465.250000</td>\n",
       "      <td>55.230000</td>\n",
       "      <td>2.000000</td>\n",
       "      <td>3.00000</td>\n",
       "    </tr>\n",
       "    <tr>\n",
       "      <th>max</th>\n",
       "      <td>102.000000</td>\n",
       "      <td>88.00000</td>\n",
       "      <td>699.000000</td>\n",
       "      <td>77.440000</td>\n",
       "      <td>2.000000</td>\n",
       "      <td>4.00000</td>\n",
       "    </tr>\n",
       "  </tbody>\n",
       "</table>\n",
       "</div>"
      ],
      "text/plain": [
       "         FEV1PRED        AGE    MWT1Best        SGRQ     smoking       copd\n",
       "count  101.000000  101.00000  100.000000  101.000000  101.000000  101.00000\n",
       "mean    58.531485   70.09901  399.110000   40.185842    1.841584    2.19802\n",
       "std     22.294821    7.89874  106.550116   18.239268    0.366952    0.88340\n",
       "min      3.290000   44.00000  120.000000    2.000000    1.000000    1.00000\n",
       "25%     42.000000   65.00000  303.750000   28.410000    2.000000    2.00000\n",
       "50%     60.000000   71.00000  420.000000   38.210000    2.000000    2.00000\n",
       "75%     75.000000   75.00000  465.250000   55.230000    2.000000    3.00000\n",
       "max    102.000000   88.00000  699.000000   77.440000    2.000000    4.00000"
      ]
     },
     "execution_count": 11,
     "metadata": {},
     "output_type": "execute_result"
    }
   ],
   "source": [
    "data.describe()"
   ]
  },
  {
   "attachments": {},
   "cell_type": "markdown",
   "metadata": {},
   "source": [
    "## **Variabel Y**\n",
    "### Awal\n",
    "- MILD =1\n",
    "- MODERATE = 2\n",
    "- SEVERE = 3\n",
    "- VERY SEVERE = 4\n",
    "\n",
    "### Akhir Kelas 4 Dipindah ke kelas 3\n",
    "Jadi ada 3 kelas menjadi MILD, MODERATE, SEVERE"
   ]
  },
  {
   "cell_type": "code",
   "execution_count": null,
   "metadata": {},
   "outputs": [],
   "source": [
    "data[\"smoking\"].value_counts()"
   ]
  },
  {
   "cell_type": "code",
   "execution_count": null,
   "metadata": {},
   "outputs": [],
   "source": [
    "data[\"copd\"].value_counts()"
   ]
  },
  {
   "cell_type": "code",
   "execution_count": 12,
   "metadata": {},
   "outputs": [
    {
     "name": "stderr",
     "output_type": "stream",
     "text": [
      "c:\\Users\\HAJRAN\\AppData\\Local\\Programs\\Python\\Python311\\Lib\\site-packages\\seaborn\\_oldcore.py:1119: FutureWarning: use_inf_as_na option is deprecated and will be removed in a future version. Convert inf values to NaN before operating instead.\n",
      "  with pd.option_context('mode.use_inf_as_na', True):\n"
     ]
    },
    {
     "data": {
      "text/plain": [
       "<Axes: xlabel='copd', ylabel='Count'>"
      ]
     },
     "execution_count": 12,
     "metadata": {},
     "output_type": "execute_result"
    },
    {
     "data": {
      "image/png": "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",
      "text/plain": [
       "<Figure size 640x480 with 1 Axes>"
      ]
     },
     "metadata": {},
     "output_type": "display_data"
    }
   ],
   "source": [
    "sns.histplot(data[\"copd\"])"
   ]
  },
  {
   "attachments": {},
   "cell_type": "markdown",
   "metadata": {},
   "source": [
    "### Pemindahan Kelas 3 ke kelas 4"
   ]
  },
  {
   "cell_type": "code",
   "execution_count": 13,
   "metadata": {},
   "outputs": [
    {
     "name": "stdout",
     "output_type": "stream",
     "text": [
      "copd\n",
      "2    43\n",
      "3    35\n",
      "1    23\n",
      "Name: count, dtype: int64\n"
     ]
    }
   ],
   "source": [
    "# Mengubah nilai 4 menjadi 3 di kolom 'copd'\n",
    "data[\"copd\"] = data[\"copd\"].replace(4, 3)\n",
    "\n",
    "# Menampilkan distribusi nilai yang baru\n",
    "print(data[\"copd\"].value_counts())"
   ]
  },
  {
   "cell_type": "code",
   "execution_count": 14,
   "metadata": {},
   "outputs": [
    {
     "name": "stderr",
     "output_type": "stream",
     "text": [
      "c:\\Users\\HAJRAN\\AppData\\Local\\Programs\\Python\\Python311\\Lib\\site-packages\\seaborn\\_oldcore.py:1119: FutureWarning: use_inf_as_na option is deprecated and will be removed in a future version. Convert inf values to NaN before operating instead.\n",
      "  with pd.option_context('mode.use_inf_as_na', True):\n"
     ]
    },
    {
     "data": {
      "text/plain": [
       "<Axes: xlabel='copd', ylabel='Count'>"
      ]
     },
     "execution_count": 14,
     "metadata": {},
     "output_type": "execute_result"
    },
    {
     "data": {
      "image/png": "iVBORw0KGgoAAAANSUhEUgAAAjIAAAGwCAYAAACzXI8XAAAAOXRFWHRTb2Z0d2FyZQBNYXRwbG90bGliIHZlcnNpb24zLjcuMSwgaHR0cHM6Ly9tYXRwbG90bGliLm9yZy/bCgiHAAAACXBIWXMAAA9hAAAPYQGoP6dpAAAmRklEQVR4nO3de3SU9Z3H8U9ikkkgN8IlCSXhJoaLghUhRtvKJRCp5cCRswWP0mBRqyewYLpecrYYsdsTai2o3QjV5VK7C1SswNoqKIHErSaoAZQosMJGkwoJjZorMKGZ3/5hmdMxCSRDkmd+6ft1zpw6z/PMw/fXJyNvJzNJkDHGCAAAwELBTg8AAADgL0IGAABYi5ABAADWImQAAIC1CBkAAGAtQgYAAFiLkAEAANYKcXqA7ubxeHTy5ElFRUUpKCjI6XEAAEAHGGPU0NCgwYMHKzi4/ddden3InDx5UklJSU6PAQAA/FBZWakhQ4a0u7/Xh0xUVJSkr/6PiI6OdngaAADQEfX19UpKSvL+Pd6eXh8yF76dFB0dTcgAAGCZS70thDf7AgAAaxEyAADAWoQMAACwFiEDAACsRcgAAABrETIAAMBahAwAALAWIQMAAKxFyAAAAGsRMgAAwFqEDAAAsBYhAwAArEXIAAAAaxEyAADAWiFODwAAl6OiokI1NTVOj9FtBgwYoOTkZKfHAAIWIQPAWhUVFRo9eozOnj3j9CjdJiKij44ePULMAO0gZABYq6amRmfPnlHqD3MVnTjM6XG6XP2pT7R/w0rV1NQQMkA7CBkA1otOHKa45BSnxwDgAN7sCwAArEXIAAAAaxEyAADAWoQMAACwFiEDAACsRcgAAABrETIAAMBahAwAALAWIQMAAKxFyAAAAGsRMgAAwFqEDAAAsBYhAwAArEXIAAAAaxEyAADAWoQMAACwFiEDAACsRcgAAABrBUzIrFq1SkFBQVq+fLl327lz55SVlaX+/fsrMjJS8+bNU3V1tXNDAgCAgBIQIfPuu+/q17/+tcaPH++z/YEHHtArr7yibdu2qaioSCdPntRtt93m0JQAACDQOB4yjY2NuuOOO/T888+rX79+3u11dXVav369Vq9erWnTpmnixInauHGj3n77bZWUlLR7Prfbrfr6ep8bAADonRwPmaysLN16661KT0/32V5aWqrz58/7bB89erSSk5NVXFzc7vny8vIUExPjvSUlJXXb7AAAwFmOhszWrVt14MAB5eXltdpXVVWlsLAwxcbG+myPj49XVVVVu+fMyclRXV2d91ZZWdnVYwMAgAAR4tQfXFlZqWXLlumNN95QeHh4l53X5XLJ5XJ12fkAAEDgcuwVmdLSUp0+fVrXXXedQkJCFBISoqKiIj3zzDMKCQlRfHy8mpubVVtb6/O46upqJSQkODM0AAAIKI69IjN9+nQdPnzYZ9tdd92l0aNH6+GHH1ZSUpJCQ0NVUFCgefPmSZKOHTumiooKpaWlOTEyAAAIMI6FTFRUlK6++mqfbX379lX//v292xcvXqzs7GzFxcUpOjpaS5cuVVpamm644QYnRgYAAAHGsZDpiDVr1ig4OFjz5s2T2+1WRkaGnn32WafHAgAAASKgQqawsNDnfnh4uPLz85Wfn+/MQAAAIKA5/nNkAAAA/EXIAAAAaxEyAADAWoQMAACwFiEDAACsRcgAAABrETIAAMBahAwAALAWIQMAAKxFyAAAAGsRMgAAwFqEDAAAsBYhAwAArEXIAAAAaxEyAADAWoQMAACwFiEDAACsRcgAAABrETIAAMBahAwAALAWIQMAAKxFyAAAAGsRMgAAwFqEDAAAsBYhAwAArEXIAAAAaxEyAADAWoQMAACwFiEDAACsRcgAAABrETIAAMBahAwAALBWiNMDAADQm1VUVKimpsbpMbrNgAEDlJyc7NifT8gAANBNKioqNHr0GJ09e8bpUbpNREQfHT16xLGYIWQAAOgmNTU1Onv2jFJ/mKvoxGFOj9Pl6k99ov0bVqqmpoaQAQCgt4pOHKa45BSnx+iVeLMvAACwFiEDAACsRcgAAABrETIAAMBahAwAALAWIQMAAKxFyAAAAGsRMgAAwFqEDAAAsBYhAwAArEXIAAAAaxEyAADAWoQMAACwFiEDAACsRcgAAABrETIAAMBahAwAALAWIQMAAKxFyAAAAGsRMgAAwFqEDAAAsBYhAwAArEXIAAAAaxEyAADAWoQMAACwFiEDAACsRcgAAABrETIAAMBahAwAALAWIQMAAKxFyAAAAGsRMgAAwFqEDAAAsBYhAwAArEXIAAAAazkaMmvXrtX48eMVHR2t6OhopaWl6bXXXvPuP3funLKystS/f39FRkZq3rx5qq6udnBiAAAQSBwNmSFDhmjVqlUqLS3Ve++9p2nTpmnOnDn68MMPJUkPPPCAXnnlFW3btk1FRUU6efKkbrvtNidHBgAAASTEyT989uzZPvd/9rOfae3atSopKdGQIUO0fv16bd68WdOmTZMkbdy4UWPGjFFJSYluuOGGNs/pdrvldru99+vr67tvAQAAwFEB8x6ZlpYWbd26VU1NTUpLS1NpaanOnz+v9PR07zGjR49WcnKyiouL2z1PXl6eYmJivLekpKSeGB8AADjA8ZA5fPiwIiMj5XK5dN9992n79u0aO3asqqqqFBYWptjYWJ/j4+PjVVVV1e75cnJyVFdX571VVlZ28woAAIBTHP3WkiSlpKTo0KFDqqur00svvaTMzEwVFRX5fT6XyyWXy9WFEwIAgEDleMiEhYXpyiuvlCRNnDhR7777rp5++mnNnz9fzc3Nqq2t9XlVprq6WgkJCQ5NCwAAAonj31r6Oo/HI7fbrYkTJyo0NFQFBQXefceOHVNFRYXS0tIcnBAAAAQKR1+RycnJ0axZs5ScnKyGhgZt3rxZhYWF2r17t2JiYrR48WJlZ2crLi5O0dHRWrp0qdLS0tr9xBIAAPjH4mjInD59Wj/4wQ906tQpxcTEaPz48dq9e7dmzJghSVqzZo2Cg4M1b948ud1uZWRk6Nlnn3VyZAAAEEAcDZn169dfdH94eLjy8/OVn5/fQxMBAACbBNx7ZAAAADqKkAEAANYiZAAAgLUIGQAAYC1CBgAAWIuQAQAA1iJkAACAtQgZAABgLUIGAABYi5ABAADWImQAAIC1CBkAAGAtQgYAAFiLkAEAANYiZAAAgLUIGQAAYC1CBgAAWIuQAQAA1iJkAACAtQgZAABgLUIGAABYi5ABAADWImQAAIC1CBkAAGAtQgYAAFiLkAEAANYiZAAAgLUIGQAAYC1CBgAAWIuQAQAA1iJkAACAtQgZAABgLUIGAABYi5ABAADWImQAAIC1/AqZESNG6PPPP2+1vba2ViNGjLjsoQAAADrCr5D55JNP1NLS0mq72+3WZ599dtlDAQAAdERIZw7+7//+b+8/7969WzExMd77LS0tKigo0LBhw7psOAAAgIvpVMjMnTtXkhQUFKTMzEyffaGhoRo2bJh++ctfdtlwAAAAF9OpkPF4PJKk4cOH691339WAAQO6ZSgAAICO6FTIXFBeXt7VcwAAAHSaXyEjSQUFBSooKNDp06e9r9RcsGHDhsseDAAA4FL8CpmVK1fq8ccf1/XXX6/ExEQFBQV19VwAAACX5FfIrFu3Tps2bdLChQu7eh4AAIAO8+vnyDQ3N+vGG2/s6lkAAAA6xa+Qufvuu7V58+aungUAAKBT/PrW0rlz5/Tcc89pz549Gj9+vEJDQ332r169ukuGAwAAuBi/QuaDDz7QtddeK0kqKyvz2ccbfwEAQE/xK2T27dvX1XNYqaKiQjU1NU6P0a0GDBig5ORkp8cAAKBNfv8cmX90FRUVGj16jM6ePeP0KN0qIqKPjh49QswAAAKSXyEzderUi34Lae/evX4PZIuamhqdPXtGqT/MVXTiMKfH6Rb1pz7R/g0rVVNTQ8gAAAKSXyFz4f0xF5w/f16HDh1SWVlZq18m2dtFJw5TXHKK02MAAPAPya+QWbNmTZvbH3vsMTU2Nl7WQAAAAB3l18+Rac+dd97J71kCAAA9pktDpri4WOHh4V15SgAAgHb59a2l2267zee+MUanTp3Se++9pxUrVnTJYAAAAJfiV8jExMT43A8ODlZKSooef/xxzZw5s0sGAwAAuBS/Qmbjxo1dPQcAAECnXdYPxCstLdWRI0ckSePGjdM3v/nNLhkKAACgI/wKmdOnT2vBggUqLCxUbGysJKm2tlZTp07V1q1bNXDgwK6cEQAAoE1+fWpp6dKlamho0IcffqgvvvhCX3zxhcrKylRfX69//ud/7uoZAQAA2uTXKzK7du3Snj17NGbMGO+2sWPHKj8/nzf7AgCAHuPXKzIej0ehoaGttoeGhsrj8Vz2UAAAAB3hV8hMmzZNy5Yt08mTJ73bPvvsMz3wwAOaPn16lw0HAABwMX6FzL//+7+rvr5ew4YN08iRIzVy5EgNHz5c9fX1+tWvftXVMwIAALTJr/fIJCUl6cCBA9qzZ4+OHj0qSRozZozS09O7dDgAAICL6dQrMnv37tXYsWNVX1+voKAgzZgxQ0uXLtXSpUs1adIkjRs3Tv/zP//TXbMCAAD46FTIPPXUU7rnnnsUHR3dal9MTIx+9KMfafXq1V02HAAAwMV0KmTef/993XLLLe3unzlzpkpLSy97KAAAgI7oVMhUV1e3+bHrC0JCQvSXv/zlsocCAADoiE6FzDe+8Q2VlZW1u/+DDz5QYmJih8+Xl5enSZMmKSoqSoMGDdLcuXN17Ngxn2POnTunrKws9e/fX5GRkZo3b56qq6s7MzYAAOilOhUy3/3ud7VixQqdO3eu1b6zZ88qNzdX3/ve9zp8vqKiImVlZamkpERvvPGGzp8/r5kzZ6qpqcl7zAMPPKBXXnlF27ZtU1FRkU6ePKnbbrutM2MDAIBeqlMfv/7JT36il19+WVdddZWWLFmilJQUSdLRo0eVn5+vlpYW/eu//muHz7dr1y6f+5s2bdKgQYNUWlqq73znO6qrq9P69eu1efNmTZs2TZK0ceNGjRkzRiUlJbrhhhs6Mz4AAOhlOhUy8fHxevvtt3X//fcrJydHxhhJUlBQkDIyMpSfn6/4+Hi/h6mrq5MkxcXFSZJKS0t1/vx5n59PM3r0aCUnJ6u4uLjNkHG73XK73d779fX1fs8DAAACW6d/IN7QoUP16quv6ssvv9Tx48dljNGoUaPUr1+/yxrE4/Fo+fLluummm3T11VdLkqqqqhQWFqbY2FifY+Pj41VVVdXmefLy8rRy5crLmgUAANjBr5/sK0n9+vXTpEmTumyQrKwslZWV6U9/+tNlnScnJ0fZ2dne+/X19UpKSrrc8QAAQADyO2S60pIlS/SHP/xBb775poYMGeLdnpCQoObmZtXW1vq8KlNdXa2EhIQ2z+VyueRyubp7ZAAAEAD8+qWRXcUYoyVLlmj79u3au3evhg8f7rN/4sSJCg0NVUFBgXfbsWPHVFFRobS0tJ4eFwAABBhHX5HJysrS5s2btXPnTkVFRXnf9xITE6OIiAjFxMRo8eLFys7OVlxcnKKjo7V06VKlpaXxiSUAAOBsyKxdu1aSNGXKFJ/tGzdu1KJFiyRJa9asUXBwsObNmye3262MjAw9++yzPTwpAAAIRI6GzIWPb19MeHi48vPzlZ+f3wMTAQAAmzj6HhkAAIDLQcgAAABrETIAAMBahAwAALAWIQMAAKxFyAAAAGsRMgAAwFqEDAAAsBYhAwAArEXIAAAAaxEyAADAWoQMAACwFiEDAACsRcgAAABrETIAAMBahAwAALAWIQMAAKxFyAAAAGsRMgAAwFqEDAAAsBYhAwAArEXIAAAAaxEyAADAWoQMAACwFiEDAACsRcgAAABrETIAAMBahAwAALAWIQMAAKxFyAAAAGsRMgAAwFqEDAAAsBYhAwAArEXIAAAAaxEyAADAWoQMAACwFiEDAACsRcgAAABrETIAAMBahAwAALAWIQMAAKxFyAAAAGsRMgAAwFqEDAAAsBYhAwAArEXIAAAAaxEyAADAWoQMAACwFiEDAACsRcgAAABrETIAAMBahAwAALAWIQMAAKxFyAAAAGsRMgAAwFqEDAAAsBYhAwAArEXIAAAAaxEyAADAWoQMAACwFiEDAACsRcgAAABrETIAAMBahAwAALAWIQMAAKxFyAAAAGsRMgAAwFqEDAAAsBYhAwAArEXIAAAAaxEyAADAWo6GzJtvvqnZs2dr8ODBCgoK0o4dO3z2G2P06KOPKjExUREREUpPT9fHH3/szLAAACDgOBoyTU1NmjBhgvLz89vc/8QTT+iZZ57RunXrtH//fvXt21cZGRk6d+5cD08KAAACUYiTf/isWbM0a9asNvcZY/TUU0/pJz/5iebMmSNJeuGFFxQfH68dO3ZowYIFPTkqAAAIQAH7Hpny8nJVVVUpPT3duy0mJkapqakqLi5u93Fut1v19fU+NwAA0DsFbMhUVVVJkuLj4322x8fHe/e1JS8vTzExMd5bUlJSt84JAACcE7Ah46+cnBzV1dV5b5WVlU6PBAAAuknAhkxCQoIkqbq62md7dXW1d19bXC6XoqOjfW4AAKB3CtiQGT58uBISElRQUODdVl9fr/379ystLc3ByQAAQKBw9FNLjY2NOn78uPd+eXm5Dh06pLi4OCUnJ2v58uX6t3/7N40aNUrDhw/XihUrNHjwYM2dO9e5oQEAQMBwNGTee+89TZ061Xs/OztbkpSZmalNmzbpoYceUlNTk+69917V1tbqW9/6lnbt2qXw8HCnRgYAAAHE0ZCZMmWKjDHt7g8KCtLjjz+uxx9/vAenAgAAtgjY98gAAABcCiEDAACsRcgAAABrETIAAMBahAwAALAWIQMAAKxFyAAAAGsRMgAAwFqEDAAAsBYhAwAArEXIAAAAaxEyAADAWoQMAACwFiEDAACsRcgAAABrETIAAMBahAwAALAWIQMAAKxFyAAAAGsRMgAAwFqEDAAAsBYhAwAArEXIAAAAaxEyAADAWoQMAACwFiEDAACsRcgAAABrETIAAMBahAwAALAWIQMAAKxFyAAAAGsRMgAAwFqEDAAAsBYhAwAArEXIAAAAaxEyAADAWoQMAACwFiEDAACsRcgAAABrETIAAMBahAwAALAWIQMAAKxFyAAAAGsRMgAAwFqEDAAAsBYhAwAArEXIAAAAaxEyAADAWoQMAACwFiEDAACsRcgAAABrETIAAMBahAwAALAWIQMAAKxFyAAAAGsRMgAAwFqEDAAAsBYhAwAArEXIAAAAaxEyAADAWoQMAACwFiEDAACsRcgAAABrETIAAMBahAwAALAWIQMAAKxFyAAAAGsRMgAAwFqEDAAAsBYhAwAArEXIAAAAa1kRMvn5+Ro2bJjCw8OVmpqqd955x+mRAABAAAj4kPnd736n7Oxs5ebm6sCBA5owYYIyMjJ0+vRpp0cDAAAOC/iQWb16te655x7dddddGjt2rNatW6c+ffpow4YNTo8GAAAcFuL0ABfT3Nys0tJS5eTkeLcFBwcrPT1dxcXFbT7G7XbL7XZ779fV1UmS6uvru3S2xsZGSdIXnx7TX91nu/TcgaK+qkKSVFpa6l1vbxMcHCyPx+P0GN2qN6/x2LFjknrv8/Af4Tko8TVqswtfo42NjV3+9+yF8xljLn6gCWCfffaZkWTefvttn+0PPvigmTx5cpuPyc3NNZK4cePGjRs3br3gVllZedFWCOhXZPyRk5Oj7Oxs732Px6MvvvhC/fv3V1BQUJf9OfX19UpKSlJlZaWio6O77LyBpLevsbevT+r9a2R99uvta2R9/jPGqKGhQYMHD77ocQEdMgMGDNAVV1yh6upqn+3V1dVKSEho8zEul0sul8tnW2xsbHeNqOjo6F75xfn3evsae/v6pN6/RtZnv96+Rtbnn5iYmEseE9Bv9g0LC9PEiRNVUFDg3ebxeFRQUKC0tDQHJwMAAIEgoF+RkaTs7GxlZmbq+uuv1+TJk/XUU0+pqalJd911l9OjAQAAhwV8yMyfP19/+ctf9Oijj6qqqkrXXnutdu3apfj4eEfncrlcys3NbfVtrN6kt6+xt69P6v1rZH326+1rZH3dL8iYS32uCQAAIDAF9HtkAAAALoaQAQAA1iJkAACAtQgZAABgLULmb958803Nnj1bgwcPVlBQkHbs2HHJxxQWFuq6666Ty+XSlVdeqU2bNrU6Jj8/X8OGDVN4eLhSU1P1zjvvdP3wHdDZ9b388suaMWOGBg4cqOjoaKWlpWn37t0+xzz22GMKCgryuY0ePbobV9G+zq6vsLCw1exBQUGqqqryOS5Qrp/U+TUuWrSozTWOGzfOe0wgXcO8vDxNmjRJUVFRGjRokObOnev9PTUXs23bNo0ePVrh4eG65ppr9Oqrr/rsN8bo0UcfVWJioiIiIpSenq6PP/64u5bRLn/W9/zzz+vb3/62+vXrp379+ik9Pb3V12Bb1/mWW27pzqW0yZ/1bdq0qdXs4eHhPscEyvWT/FvjlClT2nwe3nrrrd5jAuUarl27VuPHj/f+cLu0tDS99tprF31MIDz/CJm/aWpq0oQJE5Sfn9+h48vLy3Xrrbdq6tSpOnTokJYvX667777b5y/73/3ud8rOzlZubq4OHDigCRMmKCMjQ6dPn+6uZbSrs+t78803NWPGDL366qsqLS3V1KlTNXv2bB08eNDnuHHjxunUqVPe25/+9KfuGP+SOru+C44dO+Yz/6BBg7z7Aun6SZ1f49NPP+2ztsrKSsXFxemf/umffI4LlGtYVFSkrKwslZSU6I033tD58+c1c+ZMNTU1tfuYt99+W7fffrsWL16sgwcPau7cuZo7d67Kysq8xzzxxBN65plntG7dOu3fv199+/ZVRkaGzp071xPL8vJnfYWFhbr99tu1b98+FRcXKykpSTNnztRnn33mc9wtt9zicw23bNnS3ctpxZ/1SV/9RNi/n/3TTz/12R8o10/yb40vv/yyz/rKysp0xRVXtHoeBsI1HDJkiFatWqXS0lK99957mjZtmubMmaMPP/ywzeMD5vnXBb/bsdeRZLZv337RYx566CEzbtw4n23z5883GRkZ3vuTJ082WVlZ3vstLS1m8ODBJi8vr0vn7ayOrK8tY8eONStXrvTez83NNRMmTOi6wbpIR9a3b98+I8l8+eWX7R4TqNfPGP+u4fbt201QUJD55JNPvNsC9RoaY8zp06eNJFNUVNTuMd///vfNrbfe6rMtNTXV/OhHPzLGGOPxeExCQoL5xS9+4d1fW1trXC6X2bJlS/cM3kEdWd/X/fWvfzVRUVHmN7/5jXdbZmammTNnTjdMeHk6sr6NGzeamJiYdvcH8vUzxr9ruGbNGhMVFWUaGxu92wL1GhpjTL9+/cx//Md/tLkvUJ5/vCLjp+LiYqWnp/tsy8jIUHFxsSSpublZpaWlPscEBwcrPT3de4xNPB6PGhoaFBcX57P9448/1uDBgzVixAjdcccdqqiocGhC/1x77bVKTEzUjBkz9NZbb3m397brJ0nr169Xenq6hg4d6rM9UK9hXV2dJLX6mvt7l3oelpeXq6qqyueYmJgYpaamOn4dO7K+rztz5ozOnz/f6jGFhYUaNGiQUlJSdP/99+vzzz/v0ln90dH1NTY2aujQoUpKSmr1X/+BfP0k/67h+vXrtWDBAvXt29dne6Bdw5aWFm3dulVNTU3t/kqgQHn+ETJ+qqqqavXThePj41VfX6+zZ8+qpqZGLS0tbR7z9fdh2ODJJ59UY2Ojvv/973u3paamatOmTdq1a5fWrl2r8vJyffvb31ZDQ4ODk3ZMYmKi1q1bp9///vf6/e9/r6SkJE2ZMkUHDhyQpF53/U6ePKnXXntNd999t8/2QL2GHo9Hy5cv10033aSrr7663ePaex5euEYX/jfQrmNH1/d1Dz/8sAYPHuzzF8Mtt9yiF154QQUFBfr5z3+uoqIizZo1Sy0tLd0xeod0dH0pKSnasGGDdu7cqf/8z/+Ux+PRjTfeqD//+c+SAvf6Sf5dw3feeUdlZWWtnoeBdA0PHz6syMhIuVwu3Xfffdq+fbvGjh3b5rGB8vwL+F9RAOdt3rxZK1eu1M6dO33eQzJr1izvP48fP16pqakaOnSoXnzxRS1evNiJUTssJSVFKSkp3vs33nijTpw4oTVr1ui3v/2tg5N1j9/85jeKjY3V3LlzfbYH6jXMyspSWVmZY+/X6W7+rG/VqlXaunWrCgsLfd4Qu2DBAu8/X3PNNRo/frxGjhypwsJCTZ8+vUvn7qiOri8tLc3nv/ZvvPFGjRkzRr/+9a/105/+tLvHvCz+XMP169frmmuu0eTJk322B9I1TElJ0aFDh1RXV6eXXnpJmZmZKioqajdmAgGvyPgpISFB1dXVPtuqq6sVHR2tiIgIDRgwQFdccUWbxyQkJPTkqJdl69atuvvuu/Xiiy+2egnx62JjY3XVVVfp+PHjPTRd15o8ebJ39t5y/aSvPjWwYcMGLVy4UGFhYRc9NhCu4ZIlS/SHP/xB+/bt05AhQy56bHvPwwvX6ML/BtJ17Mz6LnjyySe1atUqvf766xo/fvxFjx0xYoQGDBjg2DX0Z30XhIaG6pvf/KZ39kC8fpJ/a2xqatLWrVs79B8ITl7DsLAwXXnllZo4caLy8vI0YcIEPf30020eGyjPP0LGT2lpaSooKPDZ9sYbb3j/6yIsLEwTJ070Ocbj8aigoKDd7zcGmi1btuiuu+7Sli1bfD4q2J7GxkadOHFCiYmJPTBd1zt06JB39t5w/S4oKirS8ePHO/QvUCevoTFGS5Ys0fbt27V3714NHz78ko+51PNw+PDhSkhI8Dmmvr5e+/fv7/Hr6M/6pK8+9fHTn/5Uu3bt0vXXX3/J4//85z/r888/7/Fr6O/6/l5LS4sOHz7snT2Qrp90eWvctm2b3G637rzzzkse69Q1bIvH45Hb7W5zX8A8/7rsbcOWa2hoMAcPHjQHDx40kszq1avNwYMHzaeffmqMMeaRRx4xCxcu9B7/f//3f6ZPnz7mwQcfNEeOHDH5+fnmiiuuMLt27fIes3XrVuNyucymTZvMRx99ZO69914TGxtrqqqqAn59//Vf/2VCQkJMfn6+OXXqlPdWW1vrPebHP/6xKSwsNOXl5eatt94y6enpZsCAAeb06dMBv741a9aYHTt2mI8//tgcPnzYLFu2zAQHB5s9e/Z4jwmk62dM59d4wZ133mlSU1PbPGcgXcP777/fxMTEmMLCQp+vuTNnzniPWbhwoXnkkUe899966y0TEhJinnzySXPkyBGTm5trQkNDzeHDh73HrFq1ysTGxpqdO3eaDz74wMyZM8cMHz7cnD17NuDXt2rVKhMWFmZeeukln8c0NDQYY776mviXf/kXU1xcbMrLy82ePXvMddddZ0aNGmXOnTsX8OtbuXKl2b17tzlx4oQpLS01CxYsMOHh4ebDDz/0HhMo188Y/9Z4wbe+9S0zf/78VtsD6Ro+8sgjpqioyJSXl5sPPvjAPPLIIyYoKMi8/vrrxpjAff4RMn9z4eO4X79lZmYaY776eNzNN9/c6jHXXnutCQsLMyNGjDAbN25sdd5f/epXJjk52YSFhZnJkyebkpKS7l9MGzq7vptvvvmixxvz1cfNExMTTVhYmPnGN75h5s+fb44fP96zC/ubzq7v5z//uRk5cqQJDw83cXFxZsqUKWbv3r2tzhso188Y/75Ga2trTUREhHnuuefaPGcgXcO21ibJ53l18803+3wNGmPMiy++aK666ioTFhZmxo0bZ/74xz/67Pd4PGbFihUmPj7euFwuM336dHPs2LEeWJEvf9Y3dOjQNh+Tm5trjDHmzJkzZubMmWbgwIEmNDTUDB061Nxzzz2OxLY/61u+fLn3+RUfH2+++93vmgMHDvicN1CunzH+f40ePXrUSPIGwd8LpGv4wx/+0AwdOtSEhYWZgQMHmunTp/vMHKjPvyBjjOmiF3cAAAB6FO+RAQAA1iJkAACAtQgZAABgLUIGAABYi5ABAADWImQAAIC1CBkAAGAtQgYAAFiLkAHwD2nKlClavny502MAuEyEDAAAsBYhAwAArEXIAHCcx+PRE088oSuvvFIul0vJycn62c9+Jkk6fPiwpk2bpoiICPXv31/33nuvGhsbvY9dtGiR5s6dq5UrV2rgwIGKjo7Wfffdp+bmZu8xTU1N+sEPfqDIyEglJibql7/8ZY+vEUD3IGQAOC4nJ0erVq3SihUr9NFHH2nz5s2Kj49XU1OTMjIy1K9fP7377rvatm2b9uzZoyVLlvg8vqCgQEeOHFFhYaG2bNmil19+WStXrvTuf/DBB1VUVKSdO3fq9ddfV2FhoQ4cONDTywTQHbr0d2kDQCfV19cbl8tlnn/++Vb7nnvuOdOvXz/T2Njo3fbHP/7RBAcHm6qqKmOMMZmZmSYuLs40NTV5j1m7dq2JjIw0LS0tpqGhwYSFhZkXX3zRu//zzz83ERERZtmyZd23MAA9gldkADjqyJEjcrvdmj59epv7JkyYoL59+3q33XTTTfJ4PDp27Jh324QJE9SnTx/v/bS0NDU2NqqyslInTpxQc3OzUlNTvfvj4uKUkpLSTSsC0JMIGQCOioiIcHoEABYjZAA4atSoUYqIiFBBQUGrfWPGjNH777+vpqYm77a33npLwcHBPq+ovP/++zp79qz3fklJiSIjI5WUlKSRI0cqNDRU+/fv9+7/8ssv9b//+7/dtCIAPYmQAeCo8PBwPfzww3rooYf0wgsv6MSJEyopKdH69et1xx13KDw8XJmZmSorK9O+ffu0dOlSLVy4UPHx8d5zNDc3a/Hixfroo4/06quvKjc3V0uWLFFwcLAiIyO1ePFiPfjgg9q7d6/Kysq0aNEiBQfzrz+gNwhxegAAWLFihUJCQvToo4/q5MmTSkxM1H333ac+ffpo9+7dWrZsmSZNmqQ+ffpo3rx5Wr16tc/jp0+frlGjRuk73/mO3G63br/9dj322GPe/b/4xS/U2Nio2bNnKyoqSj/+8Y9VV1fXw6sE0B2CjDHG6SEAwF+LFi1SbW2tduzY4fQoABzAa6sAAMBahAwAALAW31oCAADW4hUZAABgLUIGAABYi5ABAADWImQAAIC1CBkAAGAtQgYAAFiLkAEAANYiZAAAgLX+Hy6wFnKcv4/yAAAAAElFTkSuQmCC",
      "text/plain": [
       "<Figure size 640x480 with 1 Axes>"
      ]
     },
     "metadata": {},
     "output_type": "display_data"
    }
   ],
   "source": [
    "sns.histplot(data[\"copd\"])"
   ]
  },
  {
   "attachments": {},
   "cell_type": "markdown",
   "metadata": {},
   "source": [
    "## SMOTE Random Forest"
   ]
  },
  {
   "cell_type": "code",
   "execution_count": 15,
   "metadata": {},
   "outputs": [
    {
     "name": "stdout",
     "output_type": "stream",
     "text": [
      "              precision    recall  f1-score   support\n",
      "\n",
      "           1       1.00      0.80      0.89         5\n",
      "           2       0.83      1.00      0.91         5\n",
      "           3       1.00      1.00      1.00        10\n",
      "\n",
      "    accuracy                           0.95        20\n",
      "   macro avg       0.94      0.93      0.93        20\n",
      "weighted avg       0.96      0.95      0.95        20\n",
      "\n"
     ]
    },
    {
     "name": "stderr",
     "output_type": "stream",
     "text": [
      "c:\\Users\\HAJRAN\\AppData\\Local\\Programs\\Python\\Python311\\Lib\\site-packages\\sklearn\\base.py:465: UserWarning: X does not have valid feature names, but RandomForestClassifier was fitted with feature names\n",
      "  warnings.warn(\n"
     ]
    }
   ],
   "source": [
    "from imblearn.over_sampling import SMOTE\n",
    "\n",
    "data = data.dropna()\n",
    "X = data.drop([\"copd\"], axis = 1)\n",
    "y = data[\"copd\"]\n",
    "\n",
    "# Splitting data into training and test sets\n",
    "X_train, X_test, y_train, y_test = train_test_split(X, y, test_size=0.2, random_state=42)\n",
    "\n",
    "# Initialize SMOTE for oversampling\n",
    "smote = SMOTE(random_state=42)\n",
    "\n",
    "# Apply SMOTE to the training data\n",
    "X_train_resampled, y_train_resampled = smote.fit_resample(X_train, y_train)\n",
    "\n",
    "# Feature scaling\n",
    "scaler = RobustScaler()\n",
    "X_train_resampled = scaler.fit_transform(X_train_resampled)\n",
    "X_test = scaler.transform(X_test)\n",
    "\n",
    "# Convert back to DataFrame\n",
    "X_train_resampled = pd.DataFrame(X_train_resampled, columns=X.columns)\n",
    "\n",
    "# Initialize and fit the Random Forest Classifier\n",
    "rfc = RandomForestClassifier(random_state=42)\n",
    "rfc.fit(X_train_resampled, y_train_resampled)\n",
    "\n",
    "# Predict on the test set\n",
    "y_pred = rfc.predict(X_test)\n",
    "\n",
    "# Print classification report\n",
    "print(classification_report(y_test, y_pred))\n"
   ]
  },
  {
   "cell_type": "code",
   "execution_count": null,
   "metadata": {},
   "outputs": [],
   "source": [
    "sns.histplot(y_train_resampled)"
   ]
  },
  {
   "cell_type": "code",
   "execution_count": 16,
   "metadata": {},
   "outputs": [
    {
     "data": {
      "image/png": "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",
      "text/plain": [
       "<Figure size 800x600 with 2 Axes>"
      ]
     },
     "metadata": {},
     "output_type": "display_data"
    }
   ],
   "source": [
    "from sklearn.metrics import confusion_matrix\n",
    "import seaborn as sns\n",
    "import matplotlib.pyplot as plt\n",
    "\n",
    "# Membuat confusion matrix\n",
    "conf_matrix = confusion_matrix(y_test, y_pred)\n",
    "\n",
    "# Plot confusion matrix\n",
    "plt.figure(figsize=(8, 6))\n",
    "sns.heatmap(conf_matrix, annot=True, fmt='d', cmap='Greens')\n",
    "plt.xlabel('Predicted')\n",
    "plt.ylabel('Actual')\n",
    "plt.title('Confusion Matrix')\n",
    "plt.show()\n"
   ]
  },
  {
   "attachments": {},
   "cell_type": "markdown",
   "metadata": {},
   "source": [
    "## SMOTE XGBoost"
   ]
  },
  {
   "cell_type": "code",
   "execution_count": 17,
   "metadata": {},
   "outputs": [
    {
     "name": "stdout",
     "output_type": "stream",
     "text": [
      "              precision    recall  f1-score   support\n",
      "\n",
      "           0       1.00      0.80      0.89         5\n",
      "           1       0.83      1.00      0.91         5\n",
      "           2       1.00      1.00      1.00        10\n",
      "\n",
      "    accuracy                           0.95        20\n",
      "   macro avg       0.94      0.93      0.93        20\n",
      "weighted avg       0.96      0.95      0.95        20\n",
      "\n"
     ]
    }
   ],
   "source": [
    "from xgboost import XGBClassifier\n",
    "from sklearn.model_selection import train_test_split\n",
    "from sklearn.preprocessing import LabelEncoder, RobustScaler\n",
    "from sklearn.metrics import classification_report\n",
    "from imblearn.over_sampling import SMOTE\n",
    "\n",
    "# Encode the target variable\n",
    "label_encoder = LabelEncoder()\n",
    "y_encoded = label_encoder.fit_transform(y)\n",
    "\n",
    "# Splitting data into training and test sets\n",
    "X_train, X_test, y_train, y_test = train_test_split(X, y_encoded, test_size=0.2, random_state=42)\n",
    "\n",
    "# Initialize SMOTE for oversampling\n",
    "smote = SMOTE(random_state=42)\n",
    "\n",
    "# Apply SMOTE to the training data\n",
    "X_train_resampled, y_train_resampled = smote.fit_resample(X_train, y_train)\n",
    "\n",
    "# Feature scaling\n",
    "scaler = RobustScaler()\n",
    "X_train_resampled = scaler.fit_transform(X_train_resampled)\n",
    "X_test = scaler.transform(X_test)\n",
    "\n",
    "# Initialize the XGBoost classifier\n",
    "xg = XGBClassifier(n_estimators=350)\n",
    "\n",
    "# Fit the model using resampled data\n",
    "xg.fit(X_train_resampled, y_train_resampled)\n",
    "\n",
    "# Make predictions\n",
    "xg_preds = xg.predict(X_test)\n",
    "\n",
    "# Print classification report\n",
    "print(classification_report(y_test, xg_preds))"
   ]
  },
  {
   "attachments": {},
   "cell_type": "markdown",
   "metadata": {},
   "source": [
    "# **FIX ANALISIS**"
   ]
  },
  {
   "attachments": {},
   "cell_type": "markdown",
   "metadata": {},
   "source": [
    "# Reverse XGBoost"
   ]
  },
  {
   "cell_type": "code",
<<<<<<< HEAD:Model_Prediction/code_1.ipynb
   "execution_count": null,
=======
   "execution_count": 18,
>>>>>>> 40e7848fadc46c562f4b19c8bda482b4da1cbf32:Model_Prediction/COPD.ipynb
   "metadata": {},
   "outputs": [
    {
     "name": "stdout",
     "output_type": "stream",
     "text": [
      "              precision    recall  f1-score   support\n",
      "\n",
      "           1       1.00      0.80      0.89         5\n",
      "           2       0.83      1.00      0.91         5\n",
      "           3       1.00      1.00      1.00        10\n",
      "\n",
      "    accuracy                           0.95        20\n",
      "   macro avg       0.94      0.93      0.93        20\n",
      "weighted avg       0.96      0.95      0.95        20\n",
      "\n"
     ]
    }
   ],
   "source": [
    "from xgboost import XGBClassifier\n",
    "from sklearn.model_selection import train_test_split\n",
    "from sklearn.preprocessing import LabelEncoder, RobustScaler\n",
    "from sklearn.metrics import classification_report\n",
    "from imblearn.over_sampling import SMOTE\n",
    "\n",
    "# Encode the target variable to start from 0\n",
    "label_encoder = LabelEncoder()\n",
    "y_encoded = label_encoder.fit_transform(y)  # Akan mengubah [1, 2, 3] menjadi [0, 1, 2]\n",
    "\n",
    "# Splitting data into training and test sets\n",
    "X_train, X_test, y_train, y_test = train_test_split(X, y_encoded, test_size=0.2, random_state=42)\n",
    "\n",
    "# Initialize SMOTE for oversampling\n",
    "smote = SMOTE(random_state=42)\n",
    "\n",
    "# Apply SMOTE to the training data\n",
    "X_train_resampled, y_train_resampled = smote.fit_resample(X_train, y_train)\n",
    "\n",
    "# Feature scaling\n",
    "scaler = RobustScaler()\n",
    "X_train_resampled = scaler.fit_transform(X_train_resampled)\n",
    "X_test = scaler.transform(X_test)\n",
    "\n",
    "# Initialize the XGBoost classifier\n",
    "xg = XGBClassifier(n_estimators=350)\n",
    "\n",
    "# Fit the model using resampled data\n",
    "xg.fit(X_train_resampled, y_train_resampled)\n",
    "\n",
    "# Make predictions\n",
    "xg_preds = xg.predict(X_test)\n",
    "\n",
    "# Reverse encoding hasil prediksi untuk mendapatkan label asli\n",
    "xg_preds_original = label_encoder.inverse_transform(xg_preds)\n",
    "\n",
    "# Reverse encoding y_test jika Anda ingin menggunakan label asli dalam analisis\n",
    "y_test_original = label_encoder.inverse_transform(y_test)\n",
    "\n",
    "# Print classification report with original labels\n",
    "print(classification_report(y_test_original, xg_preds_original))"
   ]
  },
  {
   "cell_type": "code",
<<<<<<< HEAD:Model_Prediction/code_1.ipynb
   "execution_count": null,
=======
   "execution_count": 19,
>>>>>>> 40e7848fadc46c562f4b19c8bda482b4da1cbf32:Model_Prediction/COPD.ipynb
   "metadata": {},
   "outputs": [
    {
     "data": {
      "image/png": "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",
      "text/plain": [
       "<Figure size 640x480 with 2 Axes>"
      ]
     },
     "metadata": {},
     "output_type": "display_data"
    }
   ],
   "source": [
    "from sklearn.metrics import confusion_matrix, ConfusionMatrixDisplay\n",
    "import matplotlib.pyplot as plt\n",
    "\n",
    "# Menghitung confusion matrix\n",
    "cm = confusion_matrix(y_test_original, xg_preds_original)\n",
    "\n",
    "# Menampilkan confusion matrix dalam bentuk grafik\n",
    "disp = ConfusionMatrixDisplay(confusion_matrix=cm, display_labels=label_encoder.classes_)\n",
    "disp.plot(cmap=plt.cm.Blues)\n",
    "plt.title(\"Confusion Matrix\")\n",
    "plt.xlabel(\"Predicted Labels\")\n",
    "plt.ylabel(\"True Labels\")\n",
    "plt.show()"
   ]
  },
  {
   "attachments": {},
   "cell_type": "markdown",
   "metadata": {},
   "source": [
    "# EKSPOR MODEL\n",
    "### Format .joblib"
   ]
  },
  {
   "cell_type": "code",
   "execution_count": null,
   "metadata": {},
   "outputs": [],
   "source": [
    "import joblib\n",
    "\n",
    "# Tentukan path dan nama file untuk menyimpan model\n",
    "model_path = \"./Output_Model/xgboost_model.joblib\"\n",
    "# Simpan model\n",
    "joblib.dump(xg, model_path)\n",
    "print(f\"Model saved to {model_path}\")"
   ]
  },
  {
   "attachments": {},
   "cell_type": "markdown",
   "metadata": {},
   "source": [
    "### Format .PKL"
   ]
  },
  {
   "cell_type": "code",
   "execution_count": null,
   "metadata": {},
   "outputs": [],
   "source": [
    "import joblib\n",
    "# Tentukan path dan nama file untuk menyimpan model\n",
    "model_path = \n",
    "# Ekspor model XGBoost ke file .pkl\n",
    "joblib.dump(xg, 'xgboost_model.pkl')\n",
    "\n",
    "# Ekspor LabelEncoder ke file .pkl\n",
    "joblib.dump(label_encoder, 'label_encoder.pkl')\n"
   ]
  },
  {
   "cell_type": "code",
   "execution_count": 20,
   "metadata": {},
   "outputs": [
    {
     "data": {
      "text/plain": [
       "['./Output_Model\\\\xgboost_model_copd.pkl']"
      ]
     },
     "execution_count": 20,
     "metadata": {},
     "output_type": "execute_result"
    }
   ],
   "source": [
    "import joblib\n",
    "import os\n",
    "\n",
    "# Tentukan path folder spesifik\n",
    "folder_path = \"./Output_Model\"\n",
    "os.makedirs(folder_path, exist_ok=True)  # Buat folder jika belum ada\n",
    "\n",
    "# Simpan model XGBoost ke folder spesifik\n",
    "joblib.dump(xg, os.path.join(folder_path, 'xgboost_model_copd.pkl'))\n",
    "\n",
    "# Simpan LabelEncoder ke folder yang sama (jika diperlukan)\n",
    "#joblib.dump(label_encoder, os.path.join(folder_path, 'label_encoder.pkl'))\n"
   ]
  },
  {
   "attachments": {},
   "cell_type": "markdown",
   "metadata": {},
   "source": [
    "## Gunakan Model "
   ]
  },
  {
   "cell_type": "code",
   "execution_count": null,
   "metadata": {},
   "outputs": [],
   "source": [
    "import joblib\n",
    "import numpy as np\n",
    "\n",
    "# Tentukan path dan nama file untuk menyimpan model\n",
    "model_path = \"./Output_Model/xgboost_model.joblib\"\n",
    "\n",
    "# Muat model\n",
    "loaded_model = joblib.load(model_path)\n",
    "\n",
    "# Contoh data untuk prediksi (misalnya, ambil satu sample dari X_test)\n",
    "sample_data = X_test[0].reshape(1, -1)  # Pastikan data berbentuk 2D\n",
    "\n",
    "# Lakukan prediksi\n",
    "predicted_label = loaded_model.predict(sample_data)\n",
    "\n",
    "# Jika Anda telah menggunakan LabelEncoder untuk y, pastikan untuk mengembalikan label asli\n",
    "predicted_label_original = label_encoder.inverse_transform(predicted_label)\n",
    "\n",
    "print(f\"Predicted label: {predicted_label_original[0]}\")"
   ]
  },
  {
   "cell_type": "code",
   "execution_count": null,
   "metadata": {},
   "outputs": [],
   "source": [
    "# CEK UNTUK DATA TEST, ambil 90 % dari data test\n",
    "import numpy as np\n",
    "\n",
    "# Tentukan 10% sampel dari X_test\n",
    "num_samples = int(0.9 * len(X_test))\n",
    "X_validation = X_test[:num_samples]\n",
    "\n",
    "# Lakukan prediksi pada data validasi\n",
    "validation_predictions = loaded_model.predict(X_validation)\n",
    "\n",
    "# Jika label asli diubah menggunakan LabelEncoder, kembalikan prediksi ke label asli\n",
    "validation_predictions_original = label_encoder.inverse_transform(validation_predictions)\n",
    "\n",
    "# Tampilkan hasil prediksi\n",
    "print(\"Prediksi untuk data validasi (90% dari X_test):\")\n",
    "print(validation_predictions_original)\n"
   ]
  },
  {
   "attachments": {},
   "cell_type": "markdown",
   "metadata": {},
   "source": [
    "# **KODE DIBAWAH INI HANYA PERCOBAAN**"
   ]
  },
  {
   "attachments": {},
   "cell_type": "markdown",
   "metadata": {},
   "source": [
    "## Random Forest"
   ]
  },
  {
   "cell_type": "code",
   "execution_count": null,
   "metadata": {},
   "outputs": [],
   "source": [
    "data = data.dropna()\n",
    "X = data.drop([\"copd\"], axis = 1)\n",
    "y = data[\"copd\"]\n",
    "\n",
    "# splitting data\n",
    "X_train, X_test, y_train, y_test = train_test_split(X, y, test_size = 0.2, random_state = 42)\n",
    "\n",
    "# feature scaling\n",
    "cols = X_train.columns\n",
    "scaler = RobustScaler()\n",
    "X_train = scaler.fit_transform(X_train)\n",
    "X_test = scaler.transform(X_test)\n",
    "X_train = pd.DataFrame(X_train, columns=[cols])\n",
    "X_test = pd.DataFrame(X_test, columns=[cols])\n",
    "\n",
    "rfc = RandomForestClassifier(random_state=42)\n",
    "rfc.fit(X_train, y_train)\n",
    "\n",
    "y_pred = rfc.predict(X_test)\n",
    "\n",
    "print(classification_report(y_test, y_pred))"
   ]
  },
  {
   "cell_type": "code",
   "execution_count": null,
   "metadata": {},
   "outputs": [],
   "source": [
    "from sklearn.metrics import confusion_matrix\n",
    "import seaborn as sns\n",
    "import matplotlib.pyplot as plt\n",
    "\n",
    "# Membuat confusion matrix\n",
    "conf_matrix = confusion_matrix(y_test, y_pred)\n",
    "\n",
    "# Plot confusion matrix\n",
    "plt.figure(figsize=(8, 6))\n",
    "sns.heatmap(conf_matrix, annot=True, fmt='d', cmap='Greens')\n",
    "plt.xlabel('Predicted')\n",
    "plt.ylabel('Actual')\n",
    "plt.title('Confusion Matrix')\n",
    "plt.show()\n"
   ]
  },
  {
   "attachments": {},
   "cell_type": "markdown",
   "metadata": {},
   "source": [
    "# XGBOOST"
   ]
  },
  {
   "cell_type": "code",
   "execution_count": null,
   "metadata": {},
   "outputs": [],
   "source": [
    "import pandas as pd\n",
    "from sklearn.model_selection import train_test_split\n",
    "from sklearn.preprocessing import RobustScaler, LabelEncoder\n",
    "from xgboost import XGBClassifier\n",
    "from sklearn.metrics import classification_report, recall_score\n",
    "\n",
    "# Encode the target variable\n",
    "label_encoder = LabelEncoder()\n",
    "y_encoded = label_encoder.fit_transform(y)\n",
    "\n",
    "# Encode the target variable\n",
    "label_encoder = LabelEncoder()\n",
    "y_encoded = label_encoder.fit_transform(y)\n",
    "\n",
    "# Splitting data into training and test sets\n",
    "X_train, X_test, y_train, y_test = train_test_split(X, y_encoded, test_size=0.2, random_state=42)\n",
    "\n",
    "# Feature scaling\n",
    "scaler = RobustScaler()\n",
    "X_train = scaler.fit_transform(X_train)\n",
    "X_test = scaler.transform(X_test)\n",
    "# Initialize the XGBoost classifier\n",
    "xg = XGBClassifier(n_estimators=350)\n",
    "\n",
    "# Fit the model\n",
    "xg.fit(X_train, y_train)\n",
    "\n",
    "# Make predictions\n",
    "xg_preds = xg.predict(X_test)\n",
    "\n",
    "# Print classification report\n",
    "print(classification_report(y_test, xg_preds))\n"
   ]
  },
  {
   "attachments": {},
   "cell_type": "markdown",
   "metadata": {},
   "source": [
    "# Confussion Matriks"
   ]
  },
  {
   "cell_type": "code",
   "execution_count": null,
   "metadata": {},
   "outputs": [],
   "source": [
    "from sklearn.metrics import confusion_matrix\n",
    "import seaborn as sns\n",
    "import matplotlib.pyplot as plt\n",
    "\n",
    "# Membuat confusion matrix\n",
    "conf_matrix = confusion_matrix(y_test, xg_preds)\n",
    "\n",
    "# Plot confusion matrix\n",
    "plt.figure(figsize=(8, 6))\n",
    "sns.heatmap(conf_matrix, annot=True, fmt='d', cmap='Greens')\n",
    "plt.xlabel('Predicted')\n",
    "plt.ylabel('Actual')\n",
    "plt.title('Confusion Matrix')\n",
    "plt.show()\n"
   ]
  },
  {
   "cell_type": "code",
   "execution_count": null,
   "metadata": {},
   "outputs": [],
   "source": [
    "# Save model terbaik\n",
    "import joblib\n",
    "import h5py\n",
    "\n",
    "# Fit the model dan menyimpan model terbaik\n",
    "xg.fit(X_train, y_train, early_stopping_rounds=10, \n",
    "       eval_set=[(X_test, y_test)], \n",
    "       eval_metric='logloss', verbose=True)\n",
    "\n",
    "# Mengekspor model XGBoost ke file .model terlebih dahulu\n",
    "xg.save_model(\"best_model.model\")\n",
    "\n",
    "# Kemudian konversi ke format .h5\n",
    "model_filename = \"best_model.h5\"\n",
    "with h5py.File(model_filename, 'w') as f:\n",
    "    joblib.dump(xg, f)\n",
    "\n",
    "print(f\"Model berhasil diekspor ke {model_filename}\")\n"
   ]
  }
 ],
 "metadata": {
  "kernelspec": {
   "display_name": "Python 3",
   "language": "python",
   "name": "python3"
  },
  "language_info": {
   "codemirror_mode": {
    "name": "ipython",
    "version": 3
   },
   "file_extension": ".py",
   "mimetype": "text/x-python",
   "name": "python",
   "nbconvert_exporter": "python",
   "pygments_lexer": "ipython3",
   "version": "3.11.3"
  },
  "vscode": {
   "interpreter": {
    "hash": "71ef6f62f9ca1c68c04779c8ddd79db32a478e7f229e5f9f1ee83cf7783afb78"
   }
  }
 },
 "nbformat": 4,
 "nbformat_minor": 2
}
