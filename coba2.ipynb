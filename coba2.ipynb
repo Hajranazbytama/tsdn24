{
 "cells": [
  {
   "cell_type": "code",
   "execution_count": null,
   "metadata": {},
   "outputs": [],
   "source": [
    "import pandas as pd\n",
    "from sklearn.model_selection import train_test_split\n",
    "from sklearn.preprocessing import RobustScaler\n",
    "from sklearn.preprocessing import StandardScaler\n",
    "from sklearn.ensemble import RandomForestClassifier\n",
    "from sklearn.metrics import classification_report\n",
    "import matplotlib.pyplot as plt\n",
    "from xgboost import XGBClassifier\n"
   ]
  },
  {
   "cell_type": "code",
   "execution_count": 93,
   "metadata": {},
   "outputs": [],
   "source": [
    "data = pd.read_csv(\"dataset.csv\")"
   ]
  },
  {
   "cell_type": "code",
   "execution_count": 94,
   "metadata": {},
   "outputs": [
    {
     "data": {
      "text/html": [
       "<div>\n",
       "<style scoped>\n",
       "    .dataframe tbody tr th:only-of-type {\n",
       "        vertical-align: middle;\n",
       "    }\n",
       "\n",
       "    .dataframe tbody tr th {\n",
       "        vertical-align: top;\n",
       "    }\n",
       "\n",
       "    .dataframe thead th {\n",
       "        text-align: right;\n",
       "    }\n",
       "</style>\n",
       "<table border=\"1\" class=\"dataframe\">\n",
       "  <thead>\n",
       "    <tr style=\"text-align: right;\">\n",
       "      <th></th>\n",
       "      <th>Unnamed: 0</th>\n",
       "      <th>ID</th>\n",
       "      <th>AGE</th>\n",
       "      <th>PackHistory</th>\n",
       "      <th>COPDSEVERITY</th>\n",
       "      <th>MWT1</th>\n",
       "      <th>MWT2</th>\n",
       "      <th>MWT1Best</th>\n",
       "      <th>FEV1</th>\n",
       "      <th>FEV1PRED</th>\n",
       "      <th>...</th>\n",
       "      <th>SGRQ</th>\n",
       "      <th>AGEquartiles</th>\n",
       "      <th>copd</th>\n",
       "      <th>gender</th>\n",
       "      <th>smoking</th>\n",
       "      <th>Diabetes</th>\n",
       "      <th>muscular</th>\n",
       "      <th>hypertension</th>\n",
       "      <th>AtrialFib</th>\n",
       "      <th>IHD</th>\n",
       "    </tr>\n",
       "  </thead>\n",
       "  <tbody>\n",
       "    <tr>\n",
       "      <th>0</th>\n",
       "      <td>1</td>\n",
       "      <td>58</td>\n",
       "      <td>77</td>\n",
       "      <td>60.0</td>\n",
       "      <td>SEVERE</td>\n",
       "      <td>120.0</td>\n",
       "      <td>120.0</td>\n",
       "      <td>120.0</td>\n",
       "      <td>1.21</td>\n",
       "      <td>36.0</td>\n",
       "      <td>...</td>\n",
       "      <td>69.55</td>\n",
       "      <td>4</td>\n",
       "      <td>3</td>\n",
       "      <td>1</td>\n",
       "      <td>2</td>\n",
       "      <td>1</td>\n",
       "      <td>0</td>\n",
       "      <td>0</td>\n",
       "      <td>1</td>\n",
       "      <td>0</td>\n",
       "    </tr>\n",
       "    <tr>\n",
       "      <th>1</th>\n",
       "      <td>2</td>\n",
       "      <td>57</td>\n",
       "      <td>79</td>\n",
       "      <td>50.0</td>\n",
       "      <td>MODERATE</td>\n",
       "      <td>165.0</td>\n",
       "      <td>176.0</td>\n",
       "      <td>176.0</td>\n",
       "      <td>1.09</td>\n",
       "      <td>56.0</td>\n",
       "      <td>...</td>\n",
       "      <td>44.24</td>\n",
       "      <td>4</td>\n",
       "      <td>2</td>\n",
       "      <td>0</td>\n",
       "      <td>2</td>\n",
       "      <td>1</td>\n",
       "      <td>0</td>\n",
       "      <td>0</td>\n",
       "      <td>1</td>\n",
       "      <td>1</td>\n",
       "    </tr>\n",
       "    <tr>\n",
       "      <th>2</th>\n",
       "      <td>3</td>\n",
       "      <td>62</td>\n",
       "      <td>80</td>\n",
       "      <td>11.0</td>\n",
       "      <td>MODERATE</td>\n",
       "      <td>201.0</td>\n",
       "      <td>180.0</td>\n",
       "      <td>201.0</td>\n",
       "      <td>1.52</td>\n",
       "      <td>68.0</td>\n",
       "      <td>...</td>\n",
       "      <td>44.09</td>\n",
       "      <td>4</td>\n",
       "      <td>2</td>\n",
       "      <td>0</td>\n",
       "      <td>2</td>\n",
       "      <td>1</td>\n",
       "      <td>0</td>\n",
       "      <td>0</td>\n",
       "      <td>1</td>\n",
       "      <td>0</td>\n",
       "    </tr>\n",
       "    <tr>\n",
       "      <th>3</th>\n",
       "      <td>4</td>\n",
       "      <td>145</td>\n",
       "      <td>56</td>\n",
       "      <td>60.0</td>\n",
       "      <td>VERY SEVERE</td>\n",
       "      <td>210.0</td>\n",
       "      <td>210.0</td>\n",
       "      <td>210.0</td>\n",
       "      <td>0.47</td>\n",
       "      <td>14.0</td>\n",
       "      <td>...</td>\n",
       "      <td>62.04</td>\n",
       "      <td>1</td>\n",
       "      <td>4</td>\n",
       "      <td>1</td>\n",
       "      <td>2</td>\n",
       "      <td>0</td>\n",
       "      <td>0</td>\n",
       "      <td>1</td>\n",
       "      <td>1</td>\n",
       "      <td>0</td>\n",
       "    </tr>\n",
       "    <tr>\n",
       "      <th>4</th>\n",
       "      <td>5</td>\n",
       "      <td>136</td>\n",
       "      <td>65</td>\n",
       "      <td>68.0</td>\n",
       "      <td>SEVERE</td>\n",
       "      <td>204.0</td>\n",
       "      <td>210.0</td>\n",
       "      <td>210.0</td>\n",
       "      <td>1.07</td>\n",
       "      <td>42.0</td>\n",
       "      <td>...</td>\n",
       "      <td>75.56</td>\n",
       "      <td>1</td>\n",
       "      <td>3</td>\n",
       "      <td>1</td>\n",
       "      <td>2</td>\n",
       "      <td>0</td>\n",
       "      <td>1</td>\n",
       "      <td>1</td>\n",
       "      <td>0</td>\n",
       "      <td>0</td>\n",
       "    </tr>\n",
       "  </tbody>\n",
       "</table>\n",
       "<p>5 rows × 24 columns</p>\n",
       "</div>"
      ],
      "text/plain": [
       "   Unnamed: 0   ID  AGE  PackHistory COPDSEVERITY   MWT1   MWT2  MWT1Best  \\\n",
       "0           1   58   77         60.0       SEVERE  120.0  120.0     120.0   \n",
       "1           2   57   79         50.0     MODERATE  165.0  176.0     176.0   \n",
       "2           3   62   80         11.0     MODERATE  201.0  180.0     201.0   \n",
       "3           4  145   56         60.0  VERY SEVERE  210.0  210.0     210.0   \n",
       "4           5  136   65         68.0       SEVERE  204.0  210.0     210.0   \n",
       "\n",
       "   FEV1  FEV1PRED  ...   SGRQ  AGEquartiles  copd  gender  smoking  Diabetes  \\\n",
       "0  1.21      36.0  ...  69.55             4     3       1        2         1   \n",
       "1  1.09      56.0  ...  44.24             4     2       0        2         1   \n",
       "2  1.52      68.0  ...  44.09             4     2       0        2         1   \n",
       "3  0.47      14.0  ...  62.04             1     4       1        2         0   \n",
       "4  1.07      42.0  ...  75.56             1     3       1        2         0   \n",
       "\n",
       "   muscular  hypertension  AtrialFib  IHD  \n",
       "0         0             0          1    0  \n",
       "1         0             0          1    1  \n",
       "2         0             0          1    0  \n",
       "3         0             1          1    0  \n",
       "4         1             1          0    0  \n",
       "\n",
       "[5 rows x 24 columns]"
      ]
     },
     "execution_count": 94,
     "metadata": {},
     "output_type": "execute_result"
    }
   ],
   "source": [
    "data.head()"
   ]
  },
  {
   "cell_type": "code",
   "execution_count": 95,
   "metadata": {},
   "outputs": [
    {
     "data": {
      "text/plain": [
       "Unnamed: 0      0\n",
       "ID              0\n",
       "AGE             0\n",
       "PackHistory     0\n",
       "COPDSEVERITY    0\n",
       "MWT1            2\n",
       "MWT2            1\n",
       "MWT1Best        1\n",
       "FEV1            0\n",
       "FEV1PRED        0\n",
       "FVC             0\n",
       "FVCPRED         0\n",
       "CAT             0\n",
       "HAD             0\n",
       "SGRQ            0\n",
       "AGEquartiles    0\n",
       "copd            0\n",
       "gender          0\n",
       "smoking         0\n",
       "Diabetes        0\n",
       "muscular        0\n",
       "hypertension    0\n",
       "AtrialFib       0\n",
       "IHD             0\n",
       "dtype: int64"
      ]
     },
     "execution_count": 95,
     "metadata": {},
     "output_type": "execute_result"
    }
   ],
   "source": [
    "data.isnull().sum()"
   ]
  },
  {
   "cell_type": "code",
   "execution_count": 96,
   "metadata": {},
   "outputs": [],
   "source": [
    "data = data[[\"FEV1PRED\", \"FEV1\", \"FVCPRED\", \"FVC\", \"MWT2\", \"MWT1\", \"AGE\", \"MWT1Best\", \"PackHistory\", \"SGRQ\", \"CAT\", \"HAD\", \"AGEquartiles\", \"smoking\", \"copd\"]]"
   ]
  },
  {
   "cell_type": "code",
   "execution_count": 97,
   "metadata": {},
   "outputs": [],
   "source": [
    "data = data.dropna()"
   ]
  },
  {
   "cell_type": "code",
   "execution_count": 98,
   "metadata": {},
   "outputs": [
    {
     "name": "stdout",
     "output_type": "stream",
     "text": [
      "<class 'pandas.core.frame.DataFrame'>\n",
      "Index: 99 entries, 0 to 99\n",
      "Data columns (total 15 columns):\n",
      " #   Column        Non-Null Count  Dtype  \n",
      "---  ------        --------------  -----  \n",
      " 0   FEV1PRED      99 non-null     float64\n",
      " 1   FEV1          99 non-null     float64\n",
      " 2   FVCPRED       99 non-null     int64  \n",
      " 3   FVC           99 non-null     float64\n",
      " 4   MWT2          99 non-null     float64\n",
      " 5   MWT1          99 non-null     float64\n",
      " 6   AGE           99 non-null     int64  \n",
      " 7   MWT1Best      99 non-null     float64\n",
      " 8   PackHistory   99 non-null     float64\n",
      " 9   SGRQ          99 non-null     float64\n",
      " 10  CAT           99 non-null     int64  \n",
      " 11  HAD           99 non-null     float64\n",
      " 12  AGEquartiles  99 non-null     int64  \n",
      " 13  smoking       99 non-null     int64  \n",
      " 14  copd          99 non-null     int64  \n",
      "dtypes: float64(9), int64(6)\n",
      "memory usage: 12.4 KB\n"
     ]
    }
   ],
   "source": [
    "data.info()"
   ]
  },
  {
   "cell_type": "code",
   "execution_count": 99,
   "metadata": {},
   "outputs": [],
   "source": [
    "X = data.drop([\"copd\"], axis = 1)\n",
    "y = data[\"copd\"]\n"
   ]
  },
  {
   "cell_type": "code",
   "execution_count": 100,
   "metadata": {},
   "outputs": [],
   "source": [
    "##splitting data\n",
    "X_train, X_test, y_train, y_test = train_test_split(X, y, test_size = 0.3, random_state = 42)"
   ]
  },
  {
   "cell_type": "code",
   "execution_count": 101,
   "metadata": {},
   "outputs": [
    {
     "data": {
      "text/html": [
       "<div>\n",
       "<style scoped>\n",
       "    .dataframe tbody tr th:only-of-type {\n",
       "        vertical-align: middle;\n",
       "    }\n",
       "\n",
       "    .dataframe tbody tr th {\n",
       "        vertical-align: top;\n",
       "    }\n",
       "\n",
       "    .dataframe thead th {\n",
       "        text-align: right;\n",
       "    }\n",
       "</style>\n",
       "<table border=\"1\" class=\"dataframe\">\n",
       "  <thead>\n",
       "    <tr style=\"text-align: right;\">\n",
       "      <th></th>\n",
       "      <th>FEV1PRED</th>\n",
       "      <th>FEV1</th>\n",
       "      <th>FVCPRED</th>\n",
       "      <th>FVC</th>\n",
       "      <th>MWT2</th>\n",
       "      <th>MWT1</th>\n",
       "      <th>AGE</th>\n",
       "      <th>MWT1Best</th>\n",
       "      <th>PackHistory</th>\n",
       "      <th>SGRQ</th>\n",
       "      <th>CAT</th>\n",
       "      <th>HAD</th>\n",
       "      <th>AGEquartiles</th>\n",
       "      <th>smoking</th>\n",
       "    </tr>\n",
       "  </thead>\n",
       "  <tbody>\n",
       "    <tr>\n",
       "      <th>95</th>\n",
       "      <td>61.0</td>\n",
       "      <td>1.61</td>\n",
       "      <td>91</td>\n",
       "      <td>3.14</td>\n",
       "      <td>563.0</td>\n",
       "      <td>558.0</td>\n",
       "      <td>72</td>\n",
       "      <td>558.0</td>\n",
       "      <td>30.0</td>\n",
       "      <td>34.64</td>\n",
       "      <td>18</td>\n",
       "      <td>12.0</td>\n",
       "      <td>3</td>\n",
       "      <td>2</td>\n",
       "    </tr>\n",
       "    <tr>\n",
       "      <th>30</th>\n",
       "      <td>42.0</td>\n",
       "      <td>1.66</td>\n",
       "      <td>63</td>\n",
       "      <td>3.08</td>\n",
       "      <td>368.0</td>\n",
       "      <td>360.0</td>\n",
       "      <td>44</td>\n",
       "      <td>368.0</td>\n",
       "      <td>30.0</td>\n",
       "      <td>72.24</td>\n",
       "      <td>30</td>\n",
       "      <td>17.0</td>\n",
       "      <td>1</td>\n",
       "      <td>2</td>\n",
       "    </tr>\n",
       "    <tr>\n",
       "      <th>28</th>\n",
       "      <td>68.0</td>\n",
       "      <td>1.92</td>\n",
       "      <td>69</td>\n",
       "      <td>2.66</td>\n",
       "      <td>338.0</td>\n",
       "      <td>322.0</td>\n",
       "      <td>77</td>\n",
       "      <td>338.0</td>\n",
       "      <td>75.0</td>\n",
       "      <td>36.39</td>\n",
       "      <td>16</td>\n",
       "      <td>2.0</td>\n",
       "      <td>4</td>\n",
       "      <td>2</td>\n",
       "    </tr>\n",
       "    <tr>\n",
       "      <th>90</th>\n",
       "      <td>80.0</td>\n",
       "      <td>2.80</td>\n",
       "      <td>95</td>\n",
       "      <td>4.39</td>\n",
       "      <td>525.0</td>\n",
       "      <td>510.0</td>\n",
       "      <td>72</td>\n",
       "      <td>525.0</td>\n",
       "      <td>30.0</td>\n",
       "      <td>42.88</td>\n",
       "      <td>23</td>\n",
       "      <td>9.0</td>\n",
       "      <td>3</td>\n",
       "      <td>2</td>\n",
       "    </tr>\n",
       "    <tr>\n",
       "      <th>5</th>\n",
       "      <td>50.0</td>\n",
       "      <td>1.09</td>\n",
       "      <td>60</td>\n",
       "      <td>1.99</td>\n",
       "      <td>180.0</td>\n",
       "      <td>216.0</td>\n",
       "      <td>67</td>\n",
       "      <td>216.0</td>\n",
       "      <td>26.0</td>\n",
       "      <td>73.82</td>\n",
       "      <td>29</td>\n",
       "      <td>21.0</td>\n",
       "      <td>2</td>\n",
       "      <td>1</td>\n",
       "    </tr>\n",
       "  </tbody>\n",
       "</table>\n",
       "</div>"
      ],
      "text/plain": [
       "    FEV1PRED  FEV1  FVCPRED   FVC   MWT2   MWT1  AGE  MWT1Best  PackHistory  \\\n",
       "95      61.0  1.61       91  3.14  563.0  558.0   72     558.0         30.0   \n",
       "30      42.0  1.66       63  3.08  368.0  360.0   44     368.0         30.0   \n",
       "28      68.0  1.92       69  2.66  338.0  322.0   77     338.0         75.0   \n",
       "90      80.0  2.80       95  4.39  525.0  510.0   72     525.0         30.0   \n",
       "5       50.0  1.09       60  1.99  180.0  216.0   67     216.0         26.0   \n",
       "\n",
       "     SGRQ  CAT   HAD  AGEquartiles  smoking  \n",
       "95  34.64   18  12.0             3        2  \n",
       "30  72.24   30  17.0             1        2  \n",
       "28  36.39   16   2.0             4        2  \n",
       "90  42.88   23   9.0             3        2  \n",
       "5   73.82   29  21.0             2        1  "
      ]
     },
     "execution_count": 101,
     "metadata": {},
     "output_type": "execute_result"
    }
   ],
   "source": [
    "X_train.head()"
   ]
  },
  {
   "cell_type": "code",
   "execution_count": 102,
   "metadata": {},
   "outputs": [],
   "source": [
    "##feature scaling\n",
    "cols = X_train.columns"
   ]
  },
  {
   "cell_type": "code",
   "execution_count": 103,
   "metadata": {},
   "outputs": [],
   "source": [
    "scaler = RobustScaler()\n",
    "X_train = scaler.fit_transform(X_train)\n",
    "X_test = scaler.transform(X_test)\n",
    "X_train = pd.DataFrame(X_train, columns=[cols])\n",
    "X_test = pd.DataFrame(X_test, columns=[cols])"
   ]
  },
  {
   "cell_type": "code",
   "execution_count": 104,
   "metadata": {},
   "outputs": [],
   "source": [
    "rfc = RandomForestClassifier(random_state=42)\n",
    "rfc.fit(X_train, y_train)\n",
    "\n",
    "y_pred = rfc.predict(X_test)"
   ]
  },
  {
   "cell_type": "code",
   "execution_count": 105,
   "metadata": {},
   "outputs": [
    {
     "name": "stdout",
     "output_type": "stream",
     "text": [
      "              precision    recall  f1-score   support\n",
      "\n",
      "           1       1.00      0.50      0.67         6\n",
      "           2       0.79      1.00      0.88        11\n",
      "           3       0.82      1.00      0.90         9\n",
      "           4       1.00      0.50      0.67         4\n",
      "\n",
      "    accuracy                           0.83        30\n",
      "   macro avg       0.90      0.75      0.78        30\n",
      "weighted avg       0.87      0.83      0.81        30\n",
      "\n"
     ]
    }
   ],
   "source": [
    "print(classification_report(y_test, y_pred))"
   ]
  },
  {
   "cell_type": "code",
   "execution_count": 106,
   "metadata": {},
   "outputs": [],
   "source": [
    "data = pd.read_csv(\"dataset.csv\")"
   ]
  },
  {
   "cell_type": "code",
   "execution_count": 107,
   "metadata": {},
   "outputs": [],
   "source": [
    "data = data[[\"FEV1\", \"FEV1PRED\", \"FVC\", \"smoking\", \"Diabetes\", \"hypertension\", \"copd\"]]"
   ]
  },
  {
   "cell_type": "code",
   "execution_count": 112,
   "metadata": {},
   "outputs": [
    {
     "name": "stdout",
     "output_type": "stream",
     "text": [
      "              precision    recall  f1-score   support\n",
      "\n",
      "           1       1.00      0.50      0.67         8\n",
      "           2       0.69      1.00      0.82         9\n",
      "           3       1.00      1.00      1.00        11\n",
      "           4       1.00      1.00      1.00         3\n",
      "\n",
      "    accuracy                           0.87        31\n",
      "   macro avg       0.92      0.88      0.87        31\n",
      "weighted avg       0.91      0.87      0.86        31\n",
      "\n"
     ]
    }
   ],
   "source": [
    "data = pd.read_csv(\"dataset.csv\")\n",
    "\n",
    "data = data[[\"FEV1\", \"FEV1PRED\", \"FVC\", \"smoking\", \"Diabetes\", \"hypertension\", \"copd\"]]\n",
    "\n",
    "data = data.dropna()\n",
    "X = data.drop([\"copd\"], axis = 1)\n",
    "y = data[\"copd\"]\n",
    "\n",
    "##splitting data\n",
    "X_train, X_test, y_train, y_test = train_test_split(X, y, test_size = 0.3, random_state = 42)\n",
    "\n",
    "##feature scaling\n",
    "cols = X_train.columns\n",
    "\n",
    "scaler = RobustScaler()\n",
    "X_train = scaler.fit_transform(X_train)\n",
    "X_test = scaler.transform(X_test)\n",
    "X_train = pd.DataFrame(X_train, columns=[cols])\n",
    "X_test = pd.DataFrame(X_test, columns=[cols])\n",
    "\n",
    "rfc = RandomForestClassifier(random_state=42)\n",
    "rfc.fit(X_train, y_train)\n",
    "\n",
    "y_pred = rfc.predict(X_test)\n",
    "\n",
    "print(classification_report(y_test, y_pred))"
   ]
  },
  {
   "cell_type": "code",
   "execution_count": 114,
   "metadata": {},
   "outputs": [
    {
     "data": {
      "image/png": "[encoded data removed]",
      "text/plain": [
       "<Figure size 800x500 with 1 Axes>"
      ]
     },
     "metadata": {},
     "output_type": "display_data"
    }
   ],
   "source": [
    "# Plotting the distribution of classes in the training data\n",
    "plt.figure(figsize=(8, 5))\n",
    "y_train.value_counts().plot(kind='bar', color='skyblue')\n",
    "plt.title('Distribution of Classes in Training Data')\n",
    "plt.xlabel('Classes')\n",
    "plt.ylabel('Frequency')\n",
    "plt.xticks(rotation=0)\n",
    "plt.show()"
   ]
  },
  {
   "cell_type": "code",
   "execution_count": 116,
   "metadata": {},
   "outputs": [
    {
     "data": {
      "text/plain": [
       "copd\n",
       "2    34\n",
       "3    16\n",
       "1    15\n",
       "4     5\n",
       "Name: count, dtype: int64"
      ]
     },
     "execution_count": 116,
     "metadata": {},
     "output_type": "execute_result"
    }
   ],
   "source": [
    "y_train.value_counts()"
   ]
  },
  {
   "cell_type": "code",
   "execution_count": 117,
   "metadata": {},
   "outputs": [
    {
     "ename": "ValueError",
     "evalue": "Expected n_neighbors <= n_samples,  but n_samples = 5, n_neighbors = 6",
     "output_type": "error",
     "traceback": [
      "\u001b[1;31m---------------------------------------------------------------------------\u001b[0m",
      "\u001b[1;31mValueError\u001b[0m                                Traceback (most recent call last)",
      "Cell \u001b[1;32mIn[117], line 28\u001b[0m\n\u001b[0;32m     25\u001b[0m smote \u001b[38;5;241m=\u001b[39m SMOTE(random_state\u001b[38;5;241m=\u001b[39m\u001b[38;5;241m42\u001b[39m)\n\u001b[0;32m     27\u001b[0m \u001b[38;5;66;03m# Apply SMOTE to the training data\u001b[39;00m\n\u001b[1;32m---> 28\u001b[0m X_train_resampled, y_train_resampled \u001b[38;5;241m=\u001b[39m \u001b[43msmote\u001b[49m\u001b[38;5;241;43m.\u001b[39;49m\u001b[43mfit_resample\u001b[49m\u001b[43m(\u001b[49m\u001b[43mX_train\u001b[49m\u001b[43m,\u001b[49m\u001b[43m \u001b[49m\u001b[43my_train\u001b[49m\u001b[43m)\u001b[49m\n\u001b[0;32m     30\u001b[0m \u001b[38;5;66;03m# Feature scaling\u001b[39;00m\n\u001b[0;32m     31\u001b[0m scaler \u001b[38;5;241m=\u001b[39m RobustScaler()\n",
      "File \u001b[1;32m~\\AppData\\Roaming\\Python\\Python311\\site-packages\\imblearn\\base.py:208\u001b[0m, in \u001b[0;36mBaseSampler.fit_resample\u001b[1;34m(self, X, y)\u001b[0m\n\u001b[0;32m    187\u001b[0m \u001b[38;5;250m\u001b[39m\u001b[38;5;124;03m\"\"\"Resample the dataset.\u001b[39;00m\n\u001b[0;32m    188\u001b[0m \n\u001b[0;32m    189\u001b[0m \u001b[38;5;124;03mParameters\u001b[39;00m\n\u001b[1;32m   (...)\u001b[0m\n\u001b[0;32m    205\u001b[0m \u001b[38;5;124;03m    The corresponding label of `X_resampled`.\u001b[39;00m\n\u001b[0;32m    206\u001b[0m \u001b[38;5;124;03m\"\"\"\u001b[39;00m\n\u001b[0;32m    207\u001b[0m \u001b[38;5;28mself\u001b[39m\u001b[38;5;241m.\u001b[39m_validate_params()\n\u001b[1;32m--> 208\u001b[0m \u001b[38;5;28;01mreturn\u001b[39;00m \u001b[38;5;28;43msuper\u001b[39;49m\u001b[43m(\u001b[49m\u001b[43m)\u001b[49m\u001b[38;5;241;43m.\u001b[39;49m\u001b[43mfit_resample\u001b[49m\u001b[43m(\u001b[49m\u001b[43mX\u001b[49m\u001b[43m,\u001b[49m\u001b[43m \u001b[49m\u001b[43my\u001b[49m\u001b[43m)\u001b[49m\n",
      "File \u001b[1;32m~\\AppData\\Roaming\\Python\\Python311\\site-packages\\imblearn\\base.py:112\u001b[0m, in \u001b[0;36mSamplerMixin.fit_resample\u001b[1;34m(self, X, y)\u001b[0m\n\u001b[0;32m    106\u001b[0m X, y, binarize_y \u001b[38;5;241m=\u001b[39m \u001b[38;5;28mself\u001b[39m\u001b[38;5;241m.\u001b[39m_check_X_y(X, y)\n\u001b[0;32m    108\u001b[0m \u001b[38;5;28mself\u001b[39m\u001b[38;5;241m.\u001b[39msampling_strategy_ \u001b[38;5;241m=\u001b[39m check_sampling_strategy(\n\u001b[0;32m    109\u001b[0m     \u001b[38;5;28mself\u001b[39m\u001b[38;5;241m.\u001b[39msampling_strategy, y, \u001b[38;5;28mself\u001b[39m\u001b[38;5;241m.\u001b[39m_sampling_type\n\u001b[0;32m    110\u001b[0m )\n\u001b[1;32m--> 112\u001b[0m output \u001b[38;5;241m=\u001b[39m \u001b[38;5;28;43mself\u001b[39;49m\u001b[38;5;241;43m.\u001b[39;49m\u001b[43m_fit_resample\u001b[49m\u001b[43m(\u001b[49m\u001b[43mX\u001b[49m\u001b[43m,\u001b[49m\u001b[43m \u001b[49m\u001b[43my\u001b[49m\u001b[43m)\u001b[49m\n\u001b[0;32m    114\u001b[0m y_ \u001b[38;5;241m=\u001b[39m (\n\u001b[0;32m    115\u001b[0m     label_binarize(output[\u001b[38;5;241m1\u001b[39m], classes\u001b[38;5;241m=\u001b[39mnp\u001b[38;5;241m.\u001b[39munique(y)) \u001b[38;5;28;01mif\u001b[39;00m binarize_y \u001b[38;5;28;01melse\u001b[39;00m output[\u001b[38;5;241m1\u001b[39m]\n\u001b[0;32m    116\u001b[0m )\n\u001b[0;32m    118\u001b[0m X_, y_ \u001b[38;5;241m=\u001b[39m arrays_transformer\u001b[38;5;241m.\u001b[39mtransform(output[\u001b[38;5;241m0\u001b[39m], y_)\n",
      "File \u001b[1;32m~\\AppData\\Roaming\\Python\\Python311\\site-packages\\imblearn\\over_sampling\\_smote\\base.py:364\u001b[0m, in \u001b[0;36mSMOTE._fit_resample\u001b[1;34m(self, X, y)\u001b[0m\n\u001b[0;32m    361\u001b[0m X_class \u001b[38;5;241m=\u001b[39m _safe_indexing(X, target_class_indices)\n\u001b[0;32m    363\u001b[0m \u001b[38;5;28mself\u001b[39m\u001b[38;5;241m.\u001b[39mnn_k_\u001b[38;5;241m.\u001b[39mfit(X_class)\n\u001b[1;32m--> 364\u001b[0m nns \u001b[38;5;241m=\u001b[39m \u001b[38;5;28;43mself\u001b[39;49m\u001b[38;5;241;43m.\u001b[39;49m\u001b[43mnn_k_\u001b[49m\u001b[38;5;241;43m.\u001b[39;49m\u001b[43mkneighbors\u001b[49m\u001b[43m(\u001b[49m\u001b[43mX_class\u001b[49m\u001b[43m,\u001b[49m\u001b[43m \u001b[49m\u001b[43mreturn_distance\u001b[49m\u001b[38;5;241;43m=\u001b[39;49m\u001b[38;5;28;43;01mFalse\u001b[39;49;00m\u001b[43m)\u001b[49m[:, \u001b[38;5;241m1\u001b[39m:]\n\u001b[0;32m    365\u001b[0m X_new, y_new \u001b[38;5;241m=\u001b[39m \u001b[38;5;28mself\u001b[39m\u001b[38;5;241m.\u001b[39m_make_samples(\n\u001b[0;32m    366\u001b[0m     X_class, y\u001b[38;5;241m.\u001b[39mdtype, class_sample, X_class, nns, n_samples, \u001b[38;5;241m1.0\u001b[39m\n\u001b[0;32m    367\u001b[0m )\n\u001b[0;32m    368\u001b[0m X_resampled\u001b[38;5;241m.\u001b[39mappend(X_new)\n",
      "File \u001b[1;32mc:\\Users\\acer\\AppData\\Local\\Programs\\Python\\Python311\\Lib\\site-packages\\sklearn\\neighbors\\_base.py:810\u001b[0m, in \u001b[0;36mKNeighborsMixin.kneighbors\u001b[1;34m(self, X, n_neighbors, return_distance)\u001b[0m\n\u001b[0;32m    808\u001b[0m n_samples_fit \u001b[38;5;241m=\u001b[39m \u001b[38;5;28mself\u001b[39m\u001b[38;5;241m.\u001b[39mn_samples_fit_\n\u001b[0;32m    809\u001b[0m \u001b[38;5;28;01mif\u001b[39;00m n_neighbors \u001b[38;5;241m>\u001b[39m n_samples_fit:\n\u001b[1;32m--> 810\u001b[0m     \u001b[38;5;28;01mraise\u001b[39;00m \u001b[38;5;167;01mValueError\u001b[39;00m(\n\u001b[0;32m    811\u001b[0m         \u001b[38;5;124m\"\u001b[39m\u001b[38;5;124mExpected n_neighbors <= n_samples, \u001b[39m\u001b[38;5;124m\"\u001b[39m\n\u001b[0;32m    812\u001b[0m         \u001b[38;5;124m\"\u001b[39m\u001b[38;5;124m but n_samples = \u001b[39m\u001b[38;5;132;01m%d\u001b[39;00m\u001b[38;5;124m, n_neighbors = \u001b[39m\u001b[38;5;132;01m%d\u001b[39;00m\u001b[38;5;124m\"\u001b[39m \u001b[38;5;241m%\u001b[39m (n_samples_fit, n_neighbors)\n\u001b[0;32m    813\u001b[0m     )\n\u001b[0;32m    815\u001b[0m n_jobs \u001b[38;5;241m=\u001b[39m effective_n_jobs(\u001b[38;5;28mself\u001b[39m\u001b[38;5;241m.\u001b[39mn_jobs)\n\u001b[0;32m    816\u001b[0m chunked_results \u001b[38;5;241m=\u001b[39m \u001b[38;5;28;01mNone\u001b[39;00m\n",
      "\u001b[1;31mValueError\u001b[0m: Expected n_neighbors <= n_samples,  but n_samples = 5, n_neighbors = 6"
     ]
    }
   ],
   "source": [
    "import pandas as pd\n",
    "from sklearn.model_selection import train_test_split\n",
    "from sklearn.preprocessing import RobustScaler\n",
    "from sklearn.ensemble import RandomForestClassifier\n",
    "from sklearn.metrics import classification_report\n",
    "from imblearn.over_sampling import SMOTE\n",
    "\n",
    "# Load the dataset\n",
    "data = pd.read_csv(\"dataset.csv\")\n",
    "\n",
    "# Select specific columns\n",
    "data = data[[\"FEV1\", \"FEV1PRED\", \"FVC\", \"smoking\", \"Diabetes\", \"hypertension\", \"copd\"]]\n",
    "\n",
    "# Drop rows with missing values\n",
    "data = data.dropna()\n",
    "\n",
    "# Split data into features and target\n",
    "X = data.drop([\"copd\"], axis=1)\n",
    "y = data[\"copd\"]\n",
    "\n",
    "# Splitting data into training and test sets\n",
    "X_train, X_test, y_train, y_test = train_test_split(X, y, test_size=0.3, random_state=42)\n",
    "\n",
    "# Initialize SMOTE for oversampling\n",
    "smote = SMOTE(random_state=42)\n",
    "\n",
    "# Apply SMOTE to the training data\n",
    "X_train_resampled, y_train_resampled = smote.fit_resample(X_train, y_train)\n",
    "\n",
    "# Feature scaling\n",
    "scaler = RobustScaler()\n",
    "X_train_resampled = scaler.fit_transform(X_train_resampled)\n",
    "X_test = scaler.transform(X_test)\n",
    "\n",
    "# Convert back to DataFrame\n",
    "X_train_resampled = pd.DataFrame(X_train_resampled, columns=X.columns)\n",
    "\n",
    "# Initialize and fit the Random Forest Classifier\n",
    "rfc = RandomForestClassifier(random_state=42)\n",
    "rfc.fit(X_train_resampled, y_train_resampled)\n",
    "\n",
    "# Predict on the test set\n",
    "y_pred = rfc.predict(X_test)\n",
    "\n",
    "# Print classification report\n",
    "print(classification_report(y_test, y_pred))\n"
   ]
  },
  {
   "cell_type": "code",
   "execution_count": 124,
   "metadata": {},
   "outputs": [
    {
     "name": "stdout",
     "output_type": "stream",
     "text": [
      "              precision    recall  f1-score   support\n",
      "\n",
      "           0       1.00      0.50      0.67         8\n",
      "           1       0.69      1.00      0.82         9\n",
      "           2       1.00      1.00      1.00        11\n",
      "           3       1.00      1.00      1.00         3\n",
      "\n",
      "    accuracy                           0.87        31\n",
      "   macro avg       0.92      0.88      0.87        31\n",
      "weighted avg       0.91      0.87      0.86        31\n",
      "\n"
     ]
    }
   ],
   "source": [
    "import pandas as pd\n",
    "from sklearn.model_selection import train_test_split\n",
    "from sklearn.preprocessing import RobustScaler, LabelEncoder\n",
    "from xgboost import XGBClassifier\n",
    "from sklearn.metrics import classification_report, recall_score\n",
    "\n",
    "# Load the dataset\n",
    "data = pd.read_csv(\"dataset.csv\")\n",
    "\n",
    "# Select specific columns\n",
    "data = data[[\"FEV1\", \"FEV1PRED\", \"FVC\", \"smoking\", \"Diabetes\", \"hypertension\", \"copd\"]]\n",
    "\n",
    "# Drop rows with missing values\n",
    "data = data.dropna()\n",
    "\n",
    "# Split data into features and target\n",
    "X = data.drop([\"copd\"], axis=1)\n",
    "y = data[\"copd\"]\n",
    "\n",
    "# Encode the target variable\n",
    "label_encoder = LabelEncoder()\n",
    "y_encoded = label_encoder.fit_transform(y)\n",
    "\n",
    "# Splitting data into training and test sets\n",
    "X_train, X_test, y_train, y_test = train_test_split(X, y_encoded, test_size=0.3, random_state=42)\n",
    "\n",
    "# Feature scaling\n",
    "scaler = RobustScaler()\n",
    "X_train = scaler.fit_transform(X_train)\n",
    "X_test = scaler.transform(X_test)\n",
    "\n",
    "# Initialize the XGBoost classifier\n",
    "xg = XGBClassifier(n_estimators=350)\n",
    "\n",
    "# Fit the model\n",
    "xg.fit(X_train, y_train)\n",
    "\n",
    "# Make predictions\n",
    "xg_preds = xg.predict(X_test)\n",
    "\n",
    "# Print classification report\n",
    "print(classification_report(y_test, xg_preds))\n"
   ]
  }
 ],
 "metadata": {
  "kernelspec": {
   "display_name": "Python 3",
   "language": "python",
   "name": "python3"
  },
  "language_info": {
   "codemirror_mode": {
    "name": "ipython",
    "version": 3
   },
   "file_extension": ".py",
   "mimetype": "text/x-python",
   "name": "python",
   "nbconvert_exporter": "python",
   "pygments_lexer": "ipython3",
   "version": "3.11.0"
  }
 },
 "nbformat": 4,
 "nbformat_minor": 2
}
