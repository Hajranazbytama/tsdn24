{
 "cells": [
  {
   "cell_type": "code",
   "execution_count": null,
   "metadata": {
    "id": "AFOJDYNr_j17"
   },
   "outputs": [],
   "source": [
    "# Import required packages\n",
    "%pip install langchain langchain-community pypdf langchain_google_genai faiss-cpu"
   ]
  },
  {
   "cell_type": "code",
   "execution_count": null,
   "metadata": {
    "executionInfo": {
     "elapsed": 5246,
     "status": "ok",
     "timestamp": 1730683217600,
     "user": {
      "displayName": "Sastro Cemerson",
      "userId": "11479571451635833858"
     },
     "user_tz": -420
    },
    "id": "4OSbuihA_srG"
   },
   "outputs": [],
   "source": [
    "import os\n",
    "import glob\n",
    "import signal\n",
    "import sys\n",
    "import random\n",
    "from langchain.document_loaders import PyPDFLoader\n",
    "from langchain.text_splitter import RecursiveCharacterTextSplitter\n",
    "from langchain.vectorstores import FAISS\n",
    "from langchain_google_genai import ChatGoogleGenerativeAI, GoogleGenerativeAIEmbeddings\n",
    "from langchain.schema import HumanMessage\n",
    "from langchain.chains import RetrievalQA\n",
    "from langchain.prompts import ChatPromptTemplate"
   ]
  },
  {
   "cell_type": "code",
   "execution_count": 8,
   "metadata": {
    "colab": {
     "base_uri": "https://localhost:8080/"
    },
    "executionInfo": {
     "elapsed": 44147,
     "status": "ok",
     "timestamp": 1730683295803,
     "user": {
      "displayName": "Sastro Cemerson",
      "userId": "11479571451635833858"
     },
     "user_tz": -420
    },
    "id": "doe6gDic_uXZ",
    "outputId": "4e798f96-485f-48bd-8d7e-e7d537e91dec"
   },
   "outputs": [
    {
     "name": "stdout",
     "output_type": "stream",
     "text": [
      "Total loaded document chunks: 1518\n"
     ]
    }
   ],
   "source": [
    "# Load all PDFs from the specified folder\n",
    "pdf_folder_path = \"../Data/\"\n",
    "all_pdf_paths = glob.glob(os.path.join(pdf_folder_path, \"*.pdf\"))\n",
    "\n",
    "# Load each PDF document and split text\n",
    "documents = []\n",
    "for pdf_path in all_pdf_paths:\n",
    "    loader = PyPDFLoader(pdf_path)\n",
    "    pdf_docs = loader.load()\n",
    "    text_splitter = RecursiveCharacterTextSplitter(chunk_size=500, chunk_overlap=50)\n",
    "    documents.extend(text_splitter.split_documents(pdf_docs))\n",
    "\n",
    "print(f\"Total loaded document chunks: {len(documents)}\")"
   ]
  },
  {
   "cell_type": "code",
   "execution_count": 10,
   "metadata": {},
   "outputs": [
    {
     "name": "stdout",
     "output_type": "stream",
     "text": [
      "Randomly selected document chunk:\n",
      "page_content='- 35 - \n",
      "             \n",
      "       \n",
      " d. Assist  (bimbing)  \n",
      "Bantu pasien dengan rencana berhenti merokok, menyediakan \n",
      "konseling praktis, merekomendasikan penggunaan farmakoterapi. \n",
      "e. Arrange (atur)  \n",
      "Buat jadwal kontak lebih lanjut. \n",
      "3. Obat-obatan a. Bronkodilator : Diberikan secara tunggal atau kombinasi dari ketiga jenis bronkodilator dan disesuaikan dengan klasifikasi derajat berat penyakit. Pemilihan bentuk obat diutamakan dalam bentuk \n",
      "inhalasi. Saat pemberian terapi inhalasi sebaiknya tidak' metadata={'source': '../Data\\\\COPD-Kemenkes.pdf', 'page': 34}\n"
     ]
    }
   ],
   "source": [
    "random_chunk = random.choice(documents)\n",
    "\n",
    "# Menampilkan chunk yang dipilih\n",
    "print(\"Randomly selected document chunk:\")\n",
    "print(random_chunk)"
   ]
  },
  {
   "cell_type": "code",
   "execution_count": 19,
   "metadata": {},
   "outputs": [],
   "source": [
    "from dotenv import load_dotenv\n",
    "GEMINI_API_KEY = os.getenv(\"GEMINI_API_KEY\")"
   ]
  },
  {
   "cell_type": "code",
   "execution_count": null,
   "metadata": {
    "executionInfo": {
     "elapsed": 341,
     "status": "ok",
     "timestamp": 1730683320145,
     "user": {
      "displayName": "Sastro Cemerson",
      "userId": "11479571451635833858"
     },
     "user_tz": -420
    },
    "id": "u4-X-rcS_zOg"
   },
   "outputs": [],
   "source": [
    "# Set up embeddings and LLM with Google Gemini API\n",
    "embeddings = GoogleGenerativeAIEmbeddings(model=\"models/embedding-001\", google_api_key=GEMINI_API_KEY)\n",
    "llm = ChatGoogleGenerativeAI(model=\"gemini-1.5-flash\", google_api_key=GEMINI_API_KEY)"
   ]
  },
  {
   "cell_type": "code",
   "execution_count": 12,
   "metadata": {
    "executionInfo": {
     "elapsed": 14845,
     "status": "ok",
     "timestamp": 1730683337366,
     "user": {
      "displayName": "Sastro Cemerson",
      "userId": "11479571451635833858"
     },
     "user_tz": -420
    },
    "id": "aUAHUbZr_1d9"
   },
   "outputs": [],
   "source": [
    "# Create FAISS vector database from documents\n",
    "vector_db = FAISS.from_documents(documents, embeddings)\n",
    "retriever = vector_db.as_retriever(search_type=\"similarity\", search_kwargs={\"k\": 5})"
   ]
  },
  {
   "cell_type": "code",
   "execution_count": 13,
   "metadata": {
    "executionInfo": {
     "elapsed": 352,
     "status": "ok",
     "timestamp": 1730683726702,
     "user": {
      "displayName": "Sastro Cemerson",
      "userId": "11479571451635833858"
     },
     "user_tz": -420
    },
    "id": "oswOAfjlxQZe"
   },
   "outputs": [],
   "source": [
    "# Define RAG prompt templates for different recommendations\n",
    "def generate_treatment_prompt(query, context, recommendation_type):\n",
    "    prompt = f\"\"\"\n",
    "    Anda adalah seorang ahli kesehatan khususnya penyakit PPOK (penyakit paru obstruktif kronik) yang membantu petugas kesehatan untuk memberikan rekomendasi pengobatan kepada pasien berdasarkan informasi yang tersedia.\n",
    "\n",
    "    **Profil dan Riwayat Pasien**:\n",
    "    {query}\n",
    "\n",
    "    **Riwayat Medis dan Keterangan Medis**:\n",
    "    {context}\n",
    "\n",
    "    Berdasarkan informasi di atas, berikan rekomendasi pengobatan yang singkat namun spesifik dan jelas yang meliputi:\n",
    "    1. Obat yang disarankan beserta dosisnya (jika mungkin).\n",
    "    2. Metode pengobatan yang sesuai.\n",
    "    3. Langkah perawatan yang harus dilakukan oleh petugas medis terhadap pasien.\n",
    "    \"\"\"\n",
    "    return prompt"
   ]
  },
  {
   "cell_type": "code",
   "execution_count": 14,
   "metadata": {
    "executionInfo": {
     "elapsed": 646,
     "status": "ok",
     "timestamp": 1730683729762,
     "user": {
      "displayName": "Sastro Cemerson",
      "userId": "11479571451635833858"
     },
     "user_tz": -420
    },
    "id": "FgOYYc4NxUbY"
   },
   "outputs": [],
   "source": [
    "def generate_lifestyle_prompt(query, context, recommendation_type):\n",
    "    prompt = f\"\"\"\n",
    "    Anda adalah seorang ahli kesehatan khususnya penyakit PPOK (penyakit paru obstruktif kronik) yang membantu petugas kesehatan memberikan rekomendasi pola hidup sehat kepada pasien yang terindikasi TB atau tidak dengan informasi berikut.\n",
    "\n",
    "    **Profil dan Riwayat Pasien**:\n",
    "    {query}\n",
    "\n",
    "    **Riwayat Medis dan Keterangan Medis**:\n",
    "    {context}\n",
    "\n",
    "    Berdasarkan informasi di atas, berikan rekomendasi pola hidup yang singkat namun spesifik yang mencakup:\n",
    "    1. Aktivitas fisik yang aman dan direkomendasikan (misalnya, jenis olahraga dan frekuensinya).\n",
    "    2. Pola makan dan jenis makanan yang sebaiknya dikonsumsi dan dihindari (contoh: makanan yang meningkatkan imunitas).\n",
    "    3. Kebiasaan sehari-hari yang dapat membantu pemulihan, termasuk tips manajemen stres dan tidur.\n",
    "    4. Instruksi khusus untuk menjaga kebersihan dan mencegah penularan.\n",
    "    \"\"\"\n",
    "    return prompt"
   ]
  },
  {
   "cell_type": "code",
   "execution_count": 15,
   "metadata": {
    "executionInfo": {
     "elapsed": 374,
     "status": "ok",
     "timestamp": 1730683735992,
     "user": {
      "displayName": "Sastro Cemerson",
      "userId": "11479571451635833858"
     },
     "user_tz": -420
    },
    "id": "aAaPtC78xVcx"
   },
   "outputs": [],
   "source": [
    "def generate_followup_prompt(query, context, recommendation_type):\n",
    "    prompt = f\"\"\"\n",
    "    Anda adalah seorang ahli kesehatan khususnya penyakit PPOK (penyakit paru obstruktif kronik) yang memberikan rekomendasi penanganan lanjutan bagi petugas kesehatan untuk pasien yang terindikasi TB atau tidak dengan informasi berikut.\n",
    "\n",
    "    **Profil dan Riwayat Pasien**:\n",
    "    {query}\n",
    "\n",
    "    **Riwayat Medis dan Keterangan Medis**:\n",
    "    {context}\n",
    "\n",
    "    Berdasarkan informasi di atas, berikan rekomendasi penanganan lanjutan yang singkat namun spesifik mencakup:\n",
    "    1. Jadwal kontrol kesehatan atau pemeriksaan lanjutan yang disarankan.\n",
    "    2. Pengujian tambahan atau pemeriksaan yang mungkin diperlukan (contoh: X-ray atau tes laboratorium).\n",
    "    3. Tanda atau gejala yang perlu diwaspadai sebagai indikasi komplikasi.\n",
    "    4. Saran untuk pemulihan yang berkelanjutan, seperti adaptasi pola hidup, manajemen stres, dan dukungan sosial yang dibutuhkan.\n",
    "    \"\"\"\n",
    "    return prompt"
   ]
  },
  {
   "cell_type": "code",
   "execution_count": 16,
   "metadata": {
    "executionInfo": {
     "elapsed": 546,
     "status": "ok",
     "timestamp": 1730683741546,
     "user": {
      "displayName": "Sastro Cemerson",
      "userId": "11479571451635833858"
     },
     "user_tz": -420
    },
    "id": "oK531If5BnI4"
   },
   "outputs": [],
   "source": [
    "# Prompt untuk memilih jenis rekomendasi\n",
    "def choose_recommendation_type():\n",
    "    print(\"Pilih Jenis Rekomendasi:\")\n",
    "    print(\"1. Rekomendasi Pengobatan\")\n",
    "    print(\"2. Rekomendasi Pola Hidup\")\n",
    "    print(\"3. Rekomendasi Penanganan Lanjutan\")\n",
    "    print(\"4. Keluar\")\n",
    "    choice = input(\"Masukkan pilihan Anda (1/2/3/4): \")\n",
    "    return choice"
   ]
  },
  {
   "cell_type": "markdown",
   "metadata": {
    "id": "-4euaetRIfI5"
   },
   "source": [
    "#### Output Rekomendasi RAG"
   ]
  },
  {
   "cell_type": "code",
   "execution_count": 17,
   "metadata": {
    "colab": {
     "base_uri": "https://localhost:8080/"
    },
    "executionInfo": {
     "elapsed": 123081,
     "status": "ok",
     "timestamp": 1730684006008,
     "user": {
      "displayName": "Sastro Cemerson",
      "userId": "11479571451635833858"
     },
     "user_tz": -420
    },
    "id": "uhng1eI_BpWq",
    "outputId": "d1625c87-8e71-4f96-8b39-6451b6faec50"
   },
   "outputs": [
    {
     "name": "stderr",
     "output_type": "stream",
     "text": [
      "C:\\Users\\lenovo\\AppData\\Local\\Temp\\ipykernel_14040\\3363164819.py:14: LangChainDeprecationWarning: The method `BaseRetriever.get_relevant_documents` was deprecated in langchain-core 0.1.46 and will be removed in 1.0. Use invoke instead.\n",
      "  context = \"\\n\".join([result.page_content for result in retriever.get_relevant_documents(query)])\n"
     ]
    },
    {
     "name": "stdout",
     "output_type": "stream",
     "text": [
      "Pilih Jenis Rekomendasi:\n",
      "1. Rekomendasi Pengobatan\n",
      "2. Rekomendasi Pola Hidup\n",
      "3. Rekomendasi Penanganan Lanjutan\n",
      "4. Keluar\n"
     ]
    },
    {
     "name": "stderr",
     "output_type": "stream",
     "text": [
      "C:\\Users\\lenovo\\AppData\\Local\\Temp\\ipykernel_14040\\3363164819.py:37: LangChainDeprecationWarning: The method `BaseChatModel.__call__` was deprecated in langchain-core 0.1.7 and will be removed in 1.0. Use invoke instead.\n",
      "  answer = llm(messages=messages)\n"
     ]
    },
    {
     "name": "stdout",
     "output_type": "stream",
     "text": [
      "Jawaban: ## Rekomendasi Pengobatan untuk Pasien PPOK\n",
      "\n",
      "**Berdasarkan informasi yang tersedia, berikut rekomendasi pengobatan yang singkat namun spesifik dan jelas:**\n",
      "\n",
      "**1. Obat yang disarankan beserta dosisnya:**\n",
      "\n",
      "* **Bronkodilator:** \n",
      "    * **Inhaler jangka panjang:**  \n",
      "        * **SABA (Short-Acting Beta Agonist):**  Albuterol 2-4 puffs 4x sehari, sesuai kebutuhan.\n",
      "        * **LABA (Long-Acting Beta Agonist):**  Salmeterol 50 mcg 2x sehari atau Formoterol 12 mcg 2x sehari.\n",
      "    * **Anticholinergik:**  \n",
      "        * **LAMA (Long-Acting Muscarinic Antagonist):** Tiotropium 18 mcg sekali sehari atau Aclidinium 400 mcg 2x sehari.\n",
      "* **Kortikosteroid:**  \n",
      "    * **Inhalasi:** Budesonide 400-800 mcg 2x sehari atau Fluticasone 250-500 mcg 2x sehari.\n",
      "    * **Oral:** Prednisone 40-60 mg/hari selama 5-7 hari (hanya untuk eksaserbasi akut).\n",
      "* **Obat lain:** \n",
      "    * **Antibiotik:** Jika ada infeksi.\n",
      "    * **Oksigen:** Jika saturasi oksigen rendah.\n",
      "    * **Rehabilitasi paru:**  Untuk meningkatkan kemampuan fisik dan kualitas hidup.\n",
      "\n",
      "**2. Metode Pengobatan yang Sesuai:**\n",
      "\n",
      "* **Terapi inhalasi:**  Merupakan metode utama pengobatan PPOK, untuk memberikan obat langsung ke paru-paru.\n",
      "* **Pengobatan oral:**  Untuk memberikan obat sistemik, seperti kortikosteroid.\n",
      "* **Terapi oksigen:**  Untuk meningkatkan saturasi oksigen darah.\n",
      "* **Rehabilitasi paru:**  Untuk meningkatkan kekuatan otot pernapasan, toleransi latihan, dan kualitas hidup.\n",
      "\n",
      "**3. Langkah Perawatan yang Harus Dilakukan oleh Petugas Medis terhadap Pasien:**\n",
      "\n",
      "* **Evaluasi dan diagnosis:**  Melakukan pemeriksaan fisik, spirometri, dan CT-scan toraks untuk memastikan diagnosis dan menilai keparahan PPOK.\n",
      "* **Pemberian obat:**  Memberikan obat yang sesuai dengan kondisi pasien, dengan dosis dan jadwal yang tepat.\n",
      "* **Pemantauan:**  Memantau respons terhadap pengobatan, dan melakukan penyesuaian dosis atau jenis obat jika diperlukan.\n",
      "* **Pendidikan pasien:**  Memberikan edukasi tentang PPOK, pengobatan, dan cara hidup sehat.\n",
      "* **Rehabilitasi paru:**  Merekomendasikan program rehabilitasi paru untuk meningkatkan kualitas hidup pasien.\n",
      "* **Pencegahan eksaserbasi:**  Memberikan edukasi tentang cara menghindari eksaserbasi, seperti menghindari asap rokok, vaksinasi influenza, dan menjaga kebersihan tangan.\n",
      "\n",
      "**Catatan:**\n",
      "\n",
      "* Rekomendasi ini hanya bersifat umum dan harus disesuaikan dengan kondisi pasien secara individual.\n",
      "* Penting untuk berkonsultasi dengan dokter spesialis paru untuk mendapatkan penanganan yang tepat.\n",
      "* Pasien PPOK harus menjalani pengobatan jangka panjang dan rutin kontrol ke dokter untuk memantau kondisi mereka.\n",
      "\n",
      "**Penting untuk diingat bahwa pengobatan PPOK bertujuan untuk mengendalikan gejala, memperlambat perkembangan penyakit, dan meningkatkan kualitas hidup pasien.**\n",
      "\n",
      "Pilih Jenis Rekomendasi:\n",
      "1. Rekomendasi Pengobatan\n",
      "2. Rekomendasi Pola Hidup\n",
      "3. Rekomendasi Penanganan Lanjutan\n",
      "4. Keluar\n",
      "Jawaban: ## Rekomendasi Pengobatan untuk Pasien PPOK\n",
      "\n",
      "**Berdasarkan informasi yang diberikan, berikut rekomendasi pengobatan yang singkat namun spesifik dan jelas:**\n",
      "\n",
      "**1. Obat yang Disarankan:**\n",
      "\n",
      "* **Bronkodilator:**\n",
      "    * **Inhaler jangka panjang:** \n",
      "        * **Salmeterol/Flutikason (Seretide)** 2 kali sehari, 1 puff per inhalasi.  \n",
      "        * **Budesonide/Formoterol (Symbicort)** 2 kali sehari, 1 puff per inhalasi.\n",
      "    * **Bronkodilator jangka pendek (untuk meredakan sesak napas):**\n",
      "        * **Salbutamol (Ventolin)** 4 kali sehari, 2 puff per inhalasi.\n",
      "        * **Ipratropium (Atrovent)** 4 kali sehari, 2 puff per inhalasi.\n",
      "* **Kortikosteroid oral:**  \n",
      "    * **Prednisolon** 30 mg per hari selama 5 hari (hanya diberikan jika terjadi eksaserbasi). \n",
      "* **Oksigen:** \n",
      "    * Jika diperlukan, berikan oksigen tambahan untuk membantu pernapasan.\n",
      "\n",
      "**2. Metode Pengobatan:**\n",
      "\n",
      "* **Terapi inhalasi:** Gunakan inhaler sesuai petunjuk dokter.\n",
      "* **Terapi oksigen:** Berikan oksigen tambahan jika diperlukan.\n",
      "* **Rehabilitasi paru:** Program latihan fisik untuk meningkatkan fungsi paru dan stamina.\n",
      "* **Terapi non-farmakologi:** \n",
      "    * Berhenti merokok.\n",
      "    * Hindari paparan asap dan debu.\n",
      "    * Konsumsi makanan bergizi dan seimbang.\n",
      "\n",
      "**3. Langkah Perawatan:**\n",
      "\n",
      "* **Monitoring:** Pantau gejala pasien secara berkala.\n",
      "* **Evaluasi:** Lakukan evaluasi fungsi paru secara berkala untuk memantau perkembangan penyakit.\n",
      "* **Pendidikan:** Berikan edukasi kepada pasien mengenai penyakit PPOK, cara mengelola penyakit, dan pentingnya berhenti merokok.\n",
      "* **Rekomendasi:** Rujuk pasien ke dokter spesialis paru untuk penanganan lebih lanjut.\n",
      "\n",
      "**Catatan:**\n",
      "\n",
      "* Dosis dan jenis obat dapat bervariasi tergantung pada kondisi pasien dan keparahan penyakitnya.\n",
      "* Penting untuk selalu berkonsultasi dengan dokter untuk mendapatkan rekomendasi pengobatan yang tepat.\n",
      "\n",
      "**Rekomendasi tambahan:**\n",
      "\n",
      "* **CT Scan:** Lakukan CT Scan toraks untuk menilai derajat emfisema dan mengidentifikasi komplikasi seperti bronkiektasis.\n",
      "* **Pemeriksaan darah:** Lakukan pemeriksaan darah untuk menilai fungsi paru dan mengidentifikasi infeksi.\n",
      "* **Psikoterapi:**  Berikan dukungan psikososial kepada pasien untuk membantu mereka mengatasi stres dan kecemasan yang terkait dengan penyakit.\n",
      "\n",
      "**Penting untuk diingat:**\n",
      "\n",
      "* PPOK adalah penyakit kronis yang tidak dapat disembuhkan, tetapi dapat dikelola dengan baik dengan pengobatan dan perubahan gaya hidup.\n",
      "* Berhenti merokok adalah langkah terpenting dalam mengelola PPOK.\n",
      "\n",
      "**Harap dicatat:** Rekomendasi ini hanya sebagai panduan umum.  **Selalu konsultasikan dengan dokter** untuk mendapatkan rekomendasi pengobatan yang tepat untuk pasien. \n",
      "\n",
      "Pilih Jenis Rekomendasi:\n",
      "1. Rekomendasi Pengobatan\n",
      "2. Rekomendasi Pola Hidup\n",
      "3. Rekomendasi Penanganan Lanjutan\n",
      "4. Keluar\n",
      "Jawaban: ## Rekomendasi Pola Hidup Sehat untuk Pasien PPOK\n",
      "\n",
      "**Aktivitas Fisik:**\n",
      "\n",
      "* **Jenis olahraga:** Jalan kaki santai, bersepeda, renang, yoga, latihan pernapasan. \n",
      "* **Frekuensi:** 30 menit, 3-5 kali seminggu.\n",
      "* **Catatan:** Hindari olahraga berat atau aktivitas yang membuat sesak nafas. Konsultasikan dengan dokter untuk menentukan jenis dan intensitas yang aman. \n",
      "\n",
      "**Pola Makan:**\n",
      "\n",
      "* **Makanan yang sebaiknya dikonsumsi:** \n",
      "    * Buah-buahan dan sayuran kaya vitamin dan mineral.\n",
      "    * Protein tanpa lemak seperti ikan, ayam, tahu, dan tempe.\n",
      "    * Biji-bijian utuh seperti beras merah, gandum utuh, dan oatmeal.\n",
      "    * Air putih dalam jumlah yang cukup.\n",
      "* **Makanan yang sebaiknya dihindari:** \n",
      "    * Makanan berlemak tinggi dan makanan olahan.\n",
      "    * Gula dan minuman manis.\n",
      "    * Alkohol dan kafein.\n",
      "\n",
      "**Kebiasaan Sehari-hari:**\n",
      "\n",
      "* **Manajemen Stres:** Teknik relaksasi seperti meditasi, yoga, atau latihan pernapasan dalam. \n",
      "* **Tidur:** Tidur 7-8 jam per malam di ruangan yang sejuk dan bersih.\n",
      "* **Berhenti Merokok:** Berhenti merokok adalah hal yang paling penting untuk memperbaiki kondisi PPOK.\n",
      "* **Hindari polusi udara:** Gunakan masker saat berada di luar ruangan yang berpolusi.\n",
      "* **Vaksinasi:** Vaksinasi flu dan pneumonia sangat dianjurkan untuk mencegah infeksi saluran pernapasan.\n",
      "\n",
      "**Kebersihan dan Pencegahan Penularan:**\n",
      "\n",
      "* **Cuci tangan:** Cuci tangan dengan sabun dan air mengalir sebelum dan sesudah makan, setelah batuk atau bersin, dan setelah kontak dengan orang sakit.\n",
      "* **Tutup mulut dan hidung:** Saat batuk atau bersin, tutup mulut dan hidung dengan tisu atau siku.\n",
      "* **Hindari kontak fisik:** Hindari kontak fisik dengan orang sakit.\n",
      "* **Bersihkan rumah:** Bersihkan rumah secara rutin untuk menghilangkan debu dan alergen.\n",
      "\n",
      "**Catatan:** Rekomendasi ini bersifat umum dan perlu disesuaikan dengan kondisi pasien. Konsultasikan dengan dokter untuk mendapatkan informasi lebih lanjut dan rencana pengobatan yang tepat. \n",
      "\n",
      "Pilih Jenis Rekomendasi:\n",
      "1. Rekomendasi Pengobatan\n",
      "2. Rekomendasi Pola Hidup\n",
      "3. Rekomendasi Penanganan Lanjutan\n",
      "4. Keluar\n",
      "Kembali ke awal. Silakan masukkan informasi pasien baru.\n",
      "Exiting the program. Goodbye!\n"
     ]
    }
   ],
   "source": [
    "# Main loop\n",
    "while True:\n",
    "    profil_pasien = input(\"Masukkan Profil Pasien (umur, jenis kelamin, dll): \")\n",
    "    if profil_pasien.lower() == 'exit':\n",
    "        print(\"Exiting the program. Goodbye!\")\n",
    "        break\n",
    "\n",
    "    riwayat_pasien = input(\"Masukkan Riwayat Pasien: \")\n",
    "    pola_hidup = input(\"Masukkan Pola Hidup Pasien: \")\n",
    "    hasil_pred = input(\"Masukkan Hasil Prediksi (PPOK/Tidak): \")\n",
    "\n",
    "    # Gabungkan data pasien sebagai query untuk konteks rekomendasi\n",
    "    query = f\"Profil pasien: {profil_pasien}. Riwayat: {riwayat_pasien}. Pola Hidup:{pola_hidup}. Hasil CT Scan: {hasil_pred}.\"\n",
    "    context = \"\\n\".join([result.page_content for result in retriever.get_relevant_documents(query)])\n",
    "\n",
    "    while True:\n",
    "        choice = choose_recommendation_type()\n",
    "\n",
    "        if choice == '1':\n",
    "            # Use generate_prompt instead of generate_rag_prompt\n",
    "            prompt = generate_treatment_prompt(query=query, context=context, recommendation_type=\"Rekomendasi Pengobatan\")\n",
    "        elif choice == '2':\n",
    "            # Use generate_prompt instead of generate_rag_prompt\n",
    "            prompt = generate_lifestyle_prompt(query=query, context=context, recommendation_type=\"Rekomendasi Pola Hidup\")\n",
    "        elif choice == '3':\n",
    "            # Use generate_prompt instead of generate_rag_prompt\n",
    "            prompt = generate_followup_prompt(query=query, context=context, recommendation_type=\"Rekomendasi Penanganan Lanjutan\")\n",
    "        elif choice == '4':\n",
    "            print(\"Kembali ke awal. Silakan masukkan informasi pasien baru.\")\n",
    "            break\n",
    "        else:\n",
    "            print(\"Pilihan tidak valid. Coba lagi.\")\n",
    "            continue\n",
    "\n",
    "        # Buat pesan HumanMessage dan dapatkan hasil dari model LLM\n",
    "        messages = [HumanMessage(content=prompt)]\n",
    "        answer = llm(messages=messages)\n",
    "        answer = answer.content\n",
    "        print(\"Jawaban:\", answer)"
   ]
  }
 ],
 "metadata": {
  "colab": {
   "authorship_tag": "ABX9TyPMOY99IJYLlahmkznjRkp6",
   "provenance": []
  },
  "kernelspec": {
   "display_name": "Python 3",
   "name": "python3"
  },
  "language_info": {
   "codemirror_mode": {
    "name": "ipython",
    "version": 3
   },
   "file_extension": ".py",
   "mimetype": "text/x-python",
   "name": "python",
   "nbconvert_exporter": "python",
   "pygments_lexer": "ipython3",
   "version": "3.10.4"
  }
 },
 "nbformat": 4,
 "nbformat_minor": 0
}
